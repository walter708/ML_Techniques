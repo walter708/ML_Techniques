{
  "nbformat": 4,
  "nbformat_minor": 0,
  "metadata": {
    "colab": {
      "name": "CNN for Image Classification.ipynb",
      "provenance": [],
      "collapsed_sections": [],
      "machine_shape": "hm"
    },
    "kernelspec": {
      "name": "python3",
      "display_name": "Python 3"
    },
    "language_info": {
      "name": "python"
    },
    "accelerator": "GPU"
  },
  "cells": [
    {
      "cell_type": "markdown",
      "metadata": {
        "id": "CnVLFwdiO6iT"
      },
      "source": [
        "# CNN for Image Classification\n",
        "###  First we import the cifar10 dataset from the keras dataset libray  "
      ]
    },
    {
      "cell_type": "code",
      "metadata": {
        "id": "dba5tPeWRLgW"
      },
      "source": [
        "from keras.models import Sequential,Model\n",
        "from keras.layers import Dense\n",
        "import numpy as np\n",
        "import tensorflow as tf\n",
        "import keras\n",
        "import matplotlib.pyplot as plt\n",
        "import pandas as pd\n",
        "from sklearn.metrics import accuracy_score\n",
        "from keras import layers"
      ],
      "execution_count": null,
      "outputs": []
    },
    {
      "cell_type": "code",
      "metadata": {
        "id": "vGTAk3-9Grce"
      },
      "source": [
        "from keras.datasets import cifar10"
      ],
      "execution_count": null,
      "outputs": []
    },
    {
      "cell_type": "code",
      "metadata": {
        "colab": {
          "base_uri": "https://localhost:8080/"
        },
        "id": "b15FqdqqGq_t",
        "outputId": "e88c40ba-f2b8-4aee-af98-e9f65899895e"
      },
      "source": [
        "(x_train, y_train) , (x_test , y_test) = cifar10.load_data()"
      ],
      "execution_count": null,
      "outputs": [
        {
          "output_type": "stream",
          "text": [
            "Downloading data from https://www.cs.toronto.edu/~kriz/cifar-10-python.tar.gz\n",
            "170500096/170498071 [==============================] - 6s 0us/step\n",
            "170508288/170498071 [==============================] - 6s 0us/step\n"
          ],
          "name": "stdout"
        }
      ]
    },
    {
      "cell_type": "markdown",
      "metadata": {
        "id": "FwwBmEsKRSUd"
      },
      "source": [
        "####  Next we convert the dataset from intger to float in order to avoid rounding problems when normalising the dataset "
      ]
    },
    {
      "cell_type": "code",
      "metadata": {
        "id": "Efi3KppnSW7g"
      },
      "source": [
        "x_train = x_train.astype('float32')\n",
        "x_test = x_test.astype('float32')"
      ],
      "execution_count": null,
      "outputs": []
    },
    {
      "cell_type": "markdown",
      "metadata": {
        "id": "GODnnrccUAfg"
      },
      "source": [
        "#### Next we normalize the dataset "
      ]
    },
    {
      "cell_type": "code",
      "metadata": {
        "id": "sklNYatZS8D2"
      },
      "source": [
        "mean = np.mean(x_train , axis = (0,1,2,3))\n",
        "std = np.std(x_train , axis = (0,1,2,3))\n",
        "x_train  = (x_train - mean) / (std + 1e-7)\n",
        "x_test = (x_test - mean) / (std + 1e-7)"
      ],
      "execution_count": null,
      "outputs": []
    },
    {
      "cell_type": "code",
      "metadata": {
        "id": "EYo5nS4kXKKC"
      },
      "source": [
        ""
      ],
      "execution_count": null,
      "outputs": []
    },
    {
      "cell_type": "markdown",
      "metadata": {
        "id": "4JXfiRZnY5wX"
      },
      "source": [
        "#### Next we reshape (flatten) the dataset inorder to make it suitable for MLP Network"
      ]
    },
    {
      "cell_type": "code",
      "metadata": {
        "id": "Qw_ZZs8-Vp5x"
      },
      "source": [
        "train_x = x_train.reshape(-1,3072)"
      ],
      "execution_count": null,
      "outputs": []
    },
    {
      "cell_type": "code",
      "metadata": {
        "id": "-9uJUlu0Yuku"
      },
      "source": [
        "test_x = x_test.reshape(-1 , 3072)"
      ],
      "execution_count": null,
      "outputs": []
    },
    {
      "cell_type": "markdown",
      "metadata": {
        "id": "EHGQ5KHtL62O"
      },
      "source": [
        "#### In this section we splitted the  training data into training( 90%) and validation set (10%)"
      ]
    },
    {
      "cell_type": "code",
      "metadata": {
        "id": "xxERYW8LXh4K"
      },
      "source": [
        "# Here our goal is to split the data into train data and validation data \n",
        "\n",
        "def split_data(X, y,percent):\n",
        "    #Created a dummy array with the size of the dataset \n",
        "    arr_rand = np.random.rand(X.shape[0])\n",
        "\n",
        "    #This creates a randomly populated array of boolean variables the length \n",
        "    # of the arr_rand\n",
        "    split = arr_rand < np.percentile(arr_rand, percent)\n",
        "    #Here the spliting for test and train is carried out using the \n",
        "    #array of boolean variables \n",
        "    X_train = X[split]  \n",
        "    y_train = y[split]\n",
        "    X_test =  X[~split]\n",
        "    y_test =  y[~split]\n",
        "\n",
        "    # print(f\"{len(X_train)}, {len(y_train)}, {len(X_test)}, {len(y_test)}\")\n",
        "    return X_train, y_train, X_test, y_test"
      ],
      "execution_count": null,
      "outputs": []
    },
    {
      "cell_type": "code",
      "metadata": {
        "id": "IE1Tw-JuMuGe"
      },
      "source": [
        "train_mlp , y_mlp , val_mlp , val_y = split_data(train_x , y_train , 90)"
      ],
      "execution_count": null,
      "outputs": []
    },
    {
      "cell_type": "code",
      "metadata": {
        "id": "8TwDzPfyN7y3"
      },
      "source": [
        ""
      ],
      "execution_count": null,
      "outputs": []
    },
    {
      "cell_type": "markdown",
      "metadata": {
        "id": "tPLs1q4CZRFV"
      },
      "source": [
        "### Here we created the MLP  model using a class the subclasses the keras model class"
      ]
    },
    {
      "cell_type": "code",
      "metadata": {
        "id": "GloKc_tjEhKv"
      },
      "source": [
        "class MLP(Model):\n",
        "  def __init__(self,input_shape = 3072):  \n",
        "    super(MLP, self).__init__()\n",
        "    self.model = Sequential()\n",
        "    self.model.add( Dense(512, activation = 'sigmoid', input_shape =(input_shape, ) ) )\n",
        "    self.model.add( Dense(512, activation = 'sigmoid') )\n",
        "    self.model.add( Dense(10, activation = 'softmax') )\n",
        "\n",
        "  def call(self, input):\n",
        "    x = self.model(input)\n",
        "    return x\n"
      ],
      "execution_count": null,
      "outputs": []
    },
    {
      "cell_type": "markdown",
      "metadata": {
        "id": "G5tQzxQKOzOS"
      },
      "source": [
        "### This section involves Training and evaluating the MLP models"
      ]
    },
    {
      "cell_type": "markdown",
      "metadata": {
        "id": "g9HUldFsGoQ2"
      },
      "source": [
        "#### First we will create three list, one to keep track of the number of MLP models, the second one to store the training accuracy for each model and the third to store the validation accuracy for each model."
      ]
    },
    {
      "cell_type": "code",
      "metadata": {
        "id": "xVPLA73Gv3xJ"
      },
      "source": [
        "models = []\n",
        "train_acc = []\n",
        "val_acc = []\n",
        "num_hidden_layer = []\n",
        "number_params = []"
      ],
      "execution_count": null,
      "outputs": []
    },
    {
      "cell_type": "markdown",
      "metadata": {
        "id": "uuxzDpCpv5uY"
      },
      "source": [
        "####  This first MLP contains \n",
        "#### &emsp; • Fully connected layer with 512 units and a sigmoid activation function\n",
        "#### &emsp; • Fully connected layer with 512 units and a sigmoid activation function\n",
        "#### &emsp; • Output layer with the suitable activation function and number of neurons for the classification task\n"
      ]
    },
    {
      "cell_type": "code",
      "metadata": {
        "id": "xVqkrU540ISE"
      },
      "source": [
        "mlp = MLP()"
      ],
      "execution_count": null,
      "outputs": []
    },
    {
      "cell_type": "code",
      "metadata": {
        "colab": {
          "base_uri": "https://localhost:8080/"
        },
        "id": "gq_iA9Kp0P9V",
        "outputId": "ddd66790-46ea-42d9-bc65-10d982dd4880"
      },
      "source": [
        "mlp.model.summary()"
      ],
      "execution_count": null,
      "outputs": [
        {
          "output_type": "stream",
          "text": [
            "Model: \"sequential\"\n",
            "_________________________________________________________________\n",
            "Layer (type)                 Output Shape              Param #   \n",
            "=================================================================\n",
            "dense (Dense)                (None, 512)               1573376   \n",
            "_________________________________________________________________\n",
            "dense_1 (Dense)              (None, 512)               262656    \n",
            "_________________________________________________________________\n",
            "dense_2 (Dense)              (None, 10)                5130      \n",
            "=================================================================\n",
            "Total params: 1,841,162\n",
            "Trainable params: 1,841,162\n",
            "Non-trainable params: 0\n",
            "_________________________________________________________________\n"
          ],
          "name": "stdout"
        }
      ]
    },
    {
      "cell_type": "code",
      "metadata": {
        "id": "oXw3bzXg0SRw"
      },
      "source": [
        "mlp.model.compile(loss=tf.keras.losses.SparseCategoricalCrossentropy(),optimizer = keras.optimizers.Adam(),metrics=['accuracy'])"
      ],
      "execution_count": null,
      "outputs": []
    },
    {
      "cell_type": "code",
      "metadata": {
        "id": "esX06ZoQJ_Yk"
      },
      "source": [
        "models.append(1)\n",
        "num_hidden_layer.append(2)\n",
        "number_params.append(1841162)"
      ],
      "execution_count": null,
      "outputs": []
    },
    {
      "cell_type": "code",
      "metadata": {
        "colab": {
          "base_uri": "https://localhost:8080/"
        },
        "id": "gF60KGjhOyyD",
        "outputId": "82187209-4ff9-4eeb-fe62-bca144ee9681"
      },
      "source": [
        "batch_size = 32\n",
        "epochs = 5\n",
        "mlp.model.fit(x = train_mlp ,y = y_mlp , batch_size = batch_size, epochs = epochs, verbose = 2 , validation_data = (val_mlp , val_y))"
      ],
      "execution_count": null,
      "outputs": [
        {
          "output_type": "stream",
          "text": [
            "Epoch 1/5\n",
            "1407/1407 - 15s - loss: 1.7390 - accuracy: 0.3834 - val_loss: 1.6126 - val_accuracy: 0.4306\n",
            "Epoch 2/5\n",
            "1407/1407 - 3s - loss: 1.5666 - accuracy: 0.4416 - val_loss: 1.5468 - val_accuracy: 0.4452\n",
            "Epoch 3/5\n",
            "1407/1407 - 3s - loss: 1.4866 - accuracy: 0.4697 - val_loss: 1.5557 - val_accuracy: 0.4536\n",
            "Epoch 4/5\n",
            "1407/1407 - 3s - loss: 1.4253 - accuracy: 0.4929 - val_loss: 1.5012 - val_accuracy: 0.4708\n",
            "Epoch 5/5\n",
            "1407/1407 - 3s - loss: 1.3821 - accuracy: 0.5092 - val_loss: 1.4547 - val_accuracy: 0.4898\n"
          ],
          "name": "stdout"
        },
        {
          "output_type": "execute_result",
          "data": {
            "text/plain": [
              "<keras.callbacks.History at 0x7f76d618c610>"
            ]
          },
          "metadata": {
            "tags": []
          },
          "execution_count": 16
        }
      ]
    },
    {
      "cell_type": "code",
      "metadata": {
        "colab": {
          "base_uri": "https://localhost:8080/"
        },
        "id": "9lFSAGSbgipC",
        "outputId": "771b3c79-83fc-4879-f124-5835ff3515ad"
      },
      "source": [
        "print(mlp.model.history.history.keys())"
      ],
      "execution_count": null,
      "outputs": [
        {
          "output_type": "stream",
          "text": [
            "dict_keys(['loss', 'accuracy', 'val_loss', 'val_accuracy'])\n"
          ],
          "name": "stdout"
        }
      ]
    },
    {
      "cell_type": "code",
      "metadata": {
        "id": "YjzOn2mLMyXT"
      },
      "source": [
        "train_v = mlp.model.history.history['accuracy'][4]"
      ],
      "execution_count": null,
      "outputs": []
    },
    {
      "cell_type": "code",
      "metadata": {
        "id": "dMsHhtXe8tYS"
      },
      "source": [
        "train_acc.append(mlp.model.history.history['accuracy'][4]) "
      ],
      "execution_count": null,
      "outputs": []
    },
    {
      "cell_type": "code",
      "metadata": {
        "id": "WcdQHpZ38s7h"
      },
      "source": [
        "val_acc.append(mlp.model.history.history['val_accuracy'][4]) "
      ],
      "execution_count": null,
      "outputs": []
    },
    {
      "cell_type": "markdown",
      "metadata": {
        "id": "GdMLhH4-wlSe"
      },
      "source": [
        "####  This second MLP contains \n",
        "#### &emsp; • Fully connected layer with 512 units and a sigmoid activation function\n",
        "#### &emsp; • Fully connected layer with 512 units and a sigmoid activation function\n",
        "#### &emsp; • Fully connected layer with 512 units and a sigmoid activation function\n",
        "#### &emsp; • Output layer with the suitable activation function and number of neurons for the classification task"
      ]
    },
    {
      "cell_type": "code",
      "metadata": {
        "id": "M8dapp_fw63A"
      },
      "source": [
        ""
      ],
      "execution_count": null,
      "outputs": []
    },
    {
      "cell_type": "code",
      "metadata": {
        "id": "m66BW8J6w-qT"
      },
      "source": [
        "mlp_2 = MLP()"
      ],
      "execution_count": null,
      "outputs": []
    },
    {
      "cell_type": "code",
      "metadata": {
        "id": "bXPHg-Nqw_TF"
      },
      "source": [
        "mlp_2.model.pop()\n",
        "mlp_2.model.add(Dense(512, activation = 'sigmoid'))\n",
        "mlp_2.model.add(Dense(10, activation = 'softmax'))"
      ],
      "execution_count": null,
      "outputs": []
    },
    {
      "cell_type": "code",
      "metadata": {
        "colab": {
          "base_uri": "https://localhost:8080/"
        },
        "id": "P9slmA2bsr1c",
        "outputId": "2aa345ce-328f-45a6-aad6-f91c06e6a906"
      },
      "source": [
        "mlp_2.model.summary()"
      ],
      "execution_count": null,
      "outputs": [
        {
          "output_type": "stream",
          "text": [
            "Model: \"sequential_1\"\n",
            "_________________________________________________________________\n",
            "Layer (type)                 Output Shape              Param #   \n",
            "=================================================================\n",
            "dense_3 (Dense)              (None, 512)               1573376   \n",
            "_________________________________________________________________\n",
            "dense_4 (Dense)              (None, 512)               262656    \n",
            "_________________________________________________________________\n",
            "dense_6 (Dense)              (None, 512)               262656    \n",
            "_________________________________________________________________\n",
            "dense_7 (Dense)              (None, 10)                5130      \n",
            "=================================================================\n",
            "Total params: 2,103,818\n",
            "Trainable params: 2,103,818\n",
            "Non-trainable params: 0\n",
            "_________________________________________________________________\n"
          ],
          "name": "stdout"
        }
      ]
    },
    {
      "cell_type": "code",
      "metadata": {
        "id": "l3DBjx86s_Ml"
      },
      "source": [
        "mlp_2.model.compile(loss=tf.keras.losses.SparseCategoricalCrossentropy(),optimizer = keras.optimizers.Adam(),metrics=['accuracy'])"
      ],
      "execution_count": null,
      "outputs": []
    },
    {
      "cell_type": "code",
      "metadata": {
        "id": "rXkETjNMs-3T"
      },
      "source": [
        "models.append(2)"
      ],
      "execution_count": null,
      "outputs": []
    },
    {
      "cell_type": "code",
      "metadata": {
        "id": "UpXMUh9A4r9d"
      },
      "source": [
        "num_hidden_layer.append(3)\n",
        "number_params.append(2103818)"
      ],
      "execution_count": null,
      "outputs": []
    },
    {
      "cell_type": "code",
      "metadata": {
        "colab": {
          "base_uri": "https://localhost:8080/"
        },
        "id": "F-BlPRY6s-pv",
        "outputId": "1859ab0d-171c-402f-a298-c1ffbcc3d2f7"
      },
      "source": [
        "batch_size = 32\n",
        "epochs = 5\n",
        "mlp_2.model.fit(x = train_mlp ,y = y_mlp , batch_size = batch_size, epochs = epochs, verbose = 2 , validation_data = (val_mlp , val_y))"
      ],
      "execution_count": null,
      "outputs": [
        {
          "output_type": "stream",
          "text": [
            "Epoch 1/5\n",
            "1407/1407 - 4s - loss: 1.7562 - accuracy: 0.3695 - val_loss: 1.6307 - val_accuracy: 0.4142\n",
            "Epoch 2/5\n",
            "1407/1407 - 3s - loss: 1.5744 - accuracy: 0.4363 - val_loss: 1.5817 - val_accuracy: 0.4352\n",
            "Epoch 3/5\n",
            "1407/1407 - 3s - loss: 1.4973 - accuracy: 0.4657 - val_loss: 1.5470 - val_accuracy: 0.4514\n",
            "Epoch 4/5\n",
            "1407/1407 - 3s - loss: 1.4450 - accuracy: 0.4827 - val_loss: 1.5094 - val_accuracy: 0.4626\n",
            "Epoch 5/5\n",
            "1407/1407 - 3s - loss: 1.3977 - accuracy: 0.5009 - val_loss: 1.4680 - val_accuracy: 0.4752\n"
          ],
          "name": "stdout"
        },
        {
          "output_type": "execute_result",
          "data": {
            "text/plain": [
              "<keras.callbacks.History at 0x7f76b6e56d50>"
            ]
          },
          "metadata": {
            "tags": []
          },
          "execution_count": 27
        }
      ]
    },
    {
      "cell_type": "code",
      "metadata": {
        "id": "Y59lubYHtk3r"
      },
      "source": [
        "train_acc.append(mlp_2.model.history.history['accuracy'][-1]) "
      ],
      "execution_count": null,
      "outputs": []
    },
    {
      "cell_type": "code",
      "metadata": {
        "id": "tEF589Idtk3s"
      },
      "source": [
        "val_acc.append(mlp_2.model.history.history['val_accuracy'][-1]) "
      ],
      "execution_count": null,
      "outputs": []
    },
    {
      "cell_type": "markdown",
      "metadata": {
        "id": "J_mYreVHxAAk"
      },
      "source": [
        "####  This third MLP contains \n",
        "#### &emsp; • Fully connected layer with 512 units and a sigmoid activation function\n",
        "#### &emsp; • Fully connected layer with 512 units and a sigmoid activation function\n",
        "#### &emsp; • Fully connected layer with 512 units and a sigmoid activation function\n",
        "#### &emsp; • Fully connected layer with 512 units and a sigmoid activation function\n",
        "#### &emsp; • Output layer with the suitable activation function and number of neurons for the classification task"
      ]
    },
    {
      "cell_type": "code",
      "metadata": {
        "id": "9HzkdH6iuh9j"
      },
      "source": [
        "mlp_3 = MLP()"
      ],
      "execution_count": null,
      "outputs": []
    },
    {
      "cell_type": "code",
      "metadata": {
        "id": "zA-FpG7muh-A"
      },
      "source": [
        "mlp_3.model.pop()\n",
        "mlp_3.model.add(Dense(512, activation = 'sigmoid'))\n",
        "mlp_3.model.add(Dense(512, activation = 'sigmoid'))\n",
        "mlp_3.model.add(Dense(10, activation = 'softmax'))"
      ],
      "execution_count": null,
      "outputs": []
    },
    {
      "cell_type": "code",
      "metadata": {
        "colab": {
          "base_uri": "https://localhost:8080/"
        },
        "id": "NRMt00y1uh-B",
        "outputId": "2faa132f-2fec-4f8a-c390-8655041a58c8"
      },
      "source": [
        "mlp_3.model.summary()"
      ],
      "execution_count": null,
      "outputs": [
        {
          "output_type": "stream",
          "text": [
            "Model: \"sequential_2\"\n",
            "_________________________________________________________________\n",
            "Layer (type)                 Output Shape              Param #   \n",
            "=================================================================\n",
            "dense_8 (Dense)              (None, 512)               1573376   \n",
            "_________________________________________________________________\n",
            "dense_9 (Dense)              (None, 512)               262656    \n",
            "_________________________________________________________________\n",
            "dense_11 (Dense)             (None, 512)               262656    \n",
            "_________________________________________________________________\n",
            "dense_12 (Dense)             (None, 512)               262656    \n",
            "_________________________________________________________________\n",
            "dense_13 (Dense)             (None, 10)                5130      \n",
            "=================================================================\n",
            "Total params: 2,366,474\n",
            "Trainable params: 2,366,474\n",
            "Non-trainable params: 0\n",
            "_________________________________________________________________\n"
          ],
          "name": "stdout"
        }
      ]
    },
    {
      "cell_type": "code",
      "metadata": {
        "id": "7n8RAVtbuh-D"
      },
      "source": [
        "mlp_3.model.compile(loss=tf.keras.losses.SparseCategoricalCrossentropy(),optimizer = keras.optimizers.Adam(),metrics=['accuracy'])"
      ],
      "execution_count": null,
      "outputs": []
    },
    {
      "cell_type": "code",
      "metadata": {
        "id": "r293gNbLuh-E"
      },
      "source": [
        "models.append(3)\n",
        "num_hidden_layer.append(4)\n",
        "number_params.append(2366474)"
      ],
      "execution_count": null,
      "outputs": []
    },
    {
      "cell_type": "code",
      "metadata": {
        "colab": {
          "base_uri": "https://localhost:8080/"
        },
        "id": "OppSC0kKuh-E",
        "outputId": "b5e8ef57-5d79-4e2c-86c1-9ae5a1f52fd6"
      },
      "source": [
        "batch_size = 32\n",
        "epochs = 5\n",
        "mlp_3.model.fit(x = train_mlp ,y = y_mlp , batch_size = batch_size, epochs = epochs, verbose = 2 , validation_data = (val_mlp , val_y))"
      ],
      "execution_count": null,
      "outputs": [
        {
          "output_type": "stream",
          "text": [
            "Epoch 1/5\n",
            "1407/1407 - 4s - loss: 1.8269 - accuracy: 0.3374 - val_loss: 1.7004 - val_accuracy: 0.3838\n",
            "Epoch 2/5\n",
            "1407/1407 - 3s - loss: 1.6299 - accuracy: 0.4185 - val_loss: 1.6014 - val_accuracy: 0.4256\n",
            "Epoch 3/5\n",
            "1407/1407 - 3s - loss: 1.5446 - accuracy: 0.4481 - val_loss: 1.5757 - val_accuracy: 0.4396\n",
            "Epoch 4/5\n",
            "1407/1407 - 3s - loss: 1.4880 - accuracy: 0.4678 - val_loss: 1.5558 - val_accuracy: 0.4474\n",
            "Epoch 5/5\n",
            "1407/1407 - 3s - loss: 1.4398 - accuracy: 0.4851 - val_loss: 1.5297 - val_accuracy: 0.4616\n"
          ],
          "name": "stdout"
        },
        {
          "output_type": "execute_result",
          "data": {
            "text/plain": [
              "<keras.callbacks.History at 0x7f76b7565ed0>"
            ]
          },
          "metadata": {
            "tags": []
          },
          "execution_count": 35
        }
      ]
    },
    {
      "cell_type": "code",
      "metadata": {
        "id": "urvYonx0uh-G"
      },
      "source": [
        "train_acc.append(mlp_3.model.history.history['accuracy'][-1]) "
      ],
      "execution_count": null,
      "outputs": []
    },
    {
      "cell_type": "code",
      "metadata": {
        "id": "CSUgNTzUuh-H"
      },
      "source": [
        "val_acc.append(mlp_3.model.history.history['val_accuracy'][-1]) "
      ],
      "execution_count": null,
      "outputs": []
    },
    {
      "cell_type": "markdown",
      "metadata": {
        "id": "rg4yF3WtxnKS"
      },
      "source": [
        "####  This fourth  MLP contains \n",
        "#### &emsp; • Fully connected layer with 512 units and a sigmoid activation function\n",
        "#### &emsp; • Fully connected layer with 512 units and a sigmoid activation function\n",
        "#### &emsp; • Fully connected layer with 512 units and a sigmoid activation function\n",
        "#### &emsp; • Fully connected layer with 512 units and a sigmoid activation function\n",
        "#### &emsp; • Fully connected layer with 512 units and a sigmoid activation function\n",
        "#### &emsp; • Output layer with the suitable activation function and number of neurons for the classification task"
      ]
    },
    {
      "cell_type": "code",
      "metadata": {
        "id": "xiN1UISVxYFe"
      },
      "source": [
        "mlp_4 = MLP()"
      ],
      "execution_count": null,
      "outputs": []
    },
    {
      "cell_type": "code",
      "metadata": {
        "id": "u-C_Gek1xYF5"
      },
      "source": [
        "mlp_4.model.pop()\n",
        "mlp_4.model.add(Dense(512, activation = 'sigmoid'))\n",
        "mlp_4.model.add(Dense(512, activation = 'sigmoid'))\n",
        "mlp_4.model.add(Dense(512, activation = 'sigmoid'))\n",
        "mlp_4.model.add(Dense(10, activation = 'softmax'))"
      ],
      "execution_count": null,
      "outputs": []
    },
    {
      "cell_type": "code",
      "metadata": {
        "colab": {
          "base_uri": "https://localhost:8080/"
        },
        "id": "ZdbjnwWsxYF6",
        "outputId": "2364cf06-2626-4546-f588-2e99fbe7b906"
      },
      "source": [
        "mlp_4.model.summary()"
      ],
      "execution_count": null,
      "outputs": [
        {
          "output_type": "stream",
          "text": [
            "Model: \"sequential_3\"\n",
            "_________________________________________________________________\n",
            "Layer (type)                 Output Shape              Param #   \n",
            "=================================================================\n",
            "dense_14 (Dense)             (None, 512)               1573376   \n",
            "_________________________________________________________________\n",
            "dense_15 (Dense)             (None, 512)               262656    \n",
            "_________________________________________________________________\n",
            "dense_17 (Dense)             (None, 512)               262656    \n",
            "_________________________________________________________________\n",
            "dense_18 (Dense)             (None, 512)               262656    \n",
            "_________________________________________________________________\n",
            "dense_19 (Dense)             (None, 512)               262656    \n",
            "_________________________________________________________________\n",
            "dense_20 (Dense)             (None, 10)                5130      \n",
            "=================================================================\n",
            "Total params: 2,629,130\n",
            "Trainable params: 2,629,130\n",
            "Non-trainable params: 0\n",
            "_________________________________________________________________\n"
          ],
          "name": "stdout"
        }
      ]
    },
    {
      "cell_type": "code",
      "metadata": {
        "id": "QTTiyi3TxYF8"
      },
      "source": [
        "mlp_4.model.compile(loss=tf.keras.losses.SparseCategoricalCrossentropy(),optimizer = keras.optimizers.Adam(),metrics=['accuracy'])"
      ],
      "execution_count": null,
      "outputs": []
    },
    {
      "cell_type": "code",
      "metadata": {
        "id": "SJCSUo54xYF9"
      },
      "source": [
        "models.append(4)\n",
        "num_hidden_layer.append(5)\n",
        "number_params.append(2629130)"
      ],
      "execution_count": null,
      "outputs": []
    },
    {
      "cell_type": "code",
      "metadata": {
        "colab": {
          "base_uri": "https://localhost:8080/"
        },
        "id": "73TKoJHdxYF9",
        "outputId": "3de0af48-ea54-493d-ce4b-8e2a52bba956"
      },
      "source": [
        "batch_size = 32\n",
        "epochs = 5\n",
        "mlp_4.model.fit(x = train_mlp ,y = y_mlp , batch_size = batch_size, epochs = epochs, verbose = 2 , validation_data = (val_mlp , val_y))"
      ],
      "execution_count": null,
      "outputs": [
        {
          "output_type": "stream",
          "text": [
            "Epoch 1/5\n",
            "1407/1407 - 4s - loss: 1.9116 - accuracy: 0.2920 - val_loss: 1.7827 - val_accuracy: 0.3526\n",
            "Epoch 2/5\n",
            "1407/1407 - 3s - loss: 1.6961 - accuracy: 0.3926 - val_loss: 1.6622 - val_accuracy: 0.4036\n",
            "Epoch 3/5\n",
            "1407/1407 - 3s - loss: 1.6082 - accuracy: 0.4270 - val_loss: 1.6075 - val_accuracy: 0.4238\n",
            "Epoch 4/5\n",
            "1407/1407 - 3s - loss: 1.5450 - accuracy: 0.4496 - val_loss: 1.6023 - val_accuracy: 0.4144\n",
            "Epoch 5/5\n",
            "1407/1407 - 3s - loss: 1.4893 - accuracy: 0.4690 - val_loss: 1.5525 - val_accuracy: 0.4418\n"
          ],
          "name": "stdout"
        },
        {
          "output_type": "execute_result",
          "data": {
            "text/plain": [
              "<keras.callbacks.History at 0x7f76b6dca390>"
            ]
          },
          "metadata": {
            "tags": []
          },
          "execution_count": 43
        }
      ]
    },
    {
      "cell_type": "code",
      "metadata": {
        "id": "uHKatij0xYF_"
      },
      "source": [
        "train_acc.append(mlp_4.model.history.history['accuracy'][-1]) "
      ],
      "execution_count": null,
      "outputs": []
    },
    {
      "cell_type": "code",
      "metadata": {
        "id": "tyEbCSoQxYGA"
      },
      "source": [
        "val_acc.append(mlp_4.model.history.history['val_accuracy'][-1]) "
      ],
      "execution_count": null,
      "outputs": []
    },
    {
      "cell_type": "markdown",
      "metadata": {
        "id": "qnn7otpPx8QE"
      },
      "source": [
        "####  This fifth  MLP contains \n",
        "#### &emsp; • Fully connected layer with 512 units and a sigmoid activation function\n",
        "#### &emsp; • Fully connected layer with 512 units and a sigmoid activation function\n",
        "#### &emsp; • Fully connected layer with 512 units and a sigmoid activation function\n",
        "#### &emsp; • Fully connected layer with 512 units and a sigmoid activation function\n",
        "#### &emsp; • Fully connected layer with 512 units and a sigmoid activation function\n",
        "#### &emsp; • Fully connected layer with 512 units and a sigmoid activation function\n",
        "#### &emsp; • Output layer with the suitable activation function and number of neurons for the classification task"
      ]
    },
    {
      "cell_type": "code",
      "metadata": {
        "id": "ZQYv6MwRydLR"
      },
      "source": [
        "mlp_5 = MLP()"
      ],
      "execution_count": null,
      "outputs": []
    },
    {
      "cell_type": "code",
      "metadata": {
        "id": "orYTw_tHydLq"
      },
      "source": [
        "mlp_5.model.pop()\n",
        "mlp_5.model.add(Dense(512, activation = 'sigmoid'))\n",
        "mlp_5.model.add(Dense(512, activation = 'sigmoid'))\n",
        "mlp_5.model.add(Dense(512, activation = 'sigmoid'))\n",
        "mlp_5.model.add(Dense(512, activation = 'sigmoid'))\n",
        "mlp_5.model.add(Dense(10, activation = 'softmax'))"
      ],
      "execution_count": null,
      "outputs": []
    },
    {
      "cell_type": "code",
      "metadata": {
        "colab": {
          "base_uri": "https://localhost:8080/"
        },
        "id": "-mrVefqmydLs",
        "outputId": "b1187abc-9da0-4b3f-a451-73e9c125a585"
      },
      "source": [
        "mlp_5.model.summary()"
      ],
      "execution_count": null,
      "outputs": [
        {
          "output_type": "stream",
          "text": [
            "Model: \"sequential_4\"\n",
            "_________________________________________________________________\n",
            "Layer (type)                 Output Shape              Param #   \n",
            "=================================================================\n",
            "dense_21 (Dense)             (None, 512)               1573376   \n",
            "_________________________________________________________________\n",
            "dense_22 (Dense)             (None, 512)               262656    \n",
            "_________________________________________________________________\n",
            "dense_24 (Dense)             (None, 512)               262656    \n",
            "_________________________________________________________________\n",
            "dense_25 (Dense)             (None, 512)               262656    \n",
            "_________________________________________________________________\n",
            "dense_26 (Dense)             (None, 512)               262656    \n",
            "_________________________________________________________________\n",
            "dense_27 (Dense)             (None, 512)               262656    \n",
            "_________________________________________________________________\n",
            "dense_28 (Dense)             (None, 10)                5130      \n",
            "=================================================================\n",
            "Total params: 2,891,786\n",
            "Trainable params: 2,891,786\n",
            "Non-trainable params: 0\n",
            "_________________________________________________________________\n"
          ],
          "name": "stdout"
        }
      ]
    },
    {
      "cell_type": "code",
      "metadata": {
        "id": "5xT1skQ_ydLt"
      },
      "source": [
        "mlp_5.model.compile(loss=tf.keras.losses.SparseCategoricalCrossentropy(),optimizer = keras.optimizers.Adam(),metrics=['accuracy'])"
      ],
      "execution_count": null,
      "outputs": []
    },
    {
      "cell_type": "code",
      "metadata": {
        "id": "u-0P3YAaydLu"
      },
      "source": [
        "models.append(5)\n",
        "num_hidden_layer.append(6)\n",
        "number_params.append(2891786)"
      ],
      "execution_count": null,
      "outputs": []
    },
    {
      "cell_type": "code",
      "metadata": {
        "colab": {
          "base_uri": "https://localhost:8080/"
        },
        "id": "4CA95JEMydLv",
        "outputId": "f6821535-863c-4856-b11a-b123c07f761e"
      },
      "source": [
        "batch_size = 32\n",
        "epochs = 5\n",
        "mlp_5.model.fit(x = train_mlp ,y = y_mlp , batch_size = batch_size, epochs = epochs, verbose = 2 , validation_data = (val_mlp , val_y))"
      ],
      "execution_count": null,
      "outputs": [
        {
          "output_type": "stream",
          "text": [
            "Epoch 1/5\n",
            "1407/1407 - 5s - loss: 2.0280 - accuracy: 0.2197 - val_loss: 1.8898 - val_accuracy: 0.3028\n",
            "Epoch 2/5\n",
            "1407/1407 - 3s - loss: 1.8119 - accuracy: 0.3334 - val_loss: 1.7711 - val_accuracy: 0.3612\n",
            "Epoch 3/5\n",
            "1407/1407 - 3s - loss: 1.6957 - accuracy: 0.3885 - val_loss: 1.6780 - val_accuracy: 0.4018\n",
            "Epoch 4/5\n",
            "1407/1407 - 3s - loss: 1.6179 - accuracy: 0.4218 - val_loss: 1.6245 - val_accuracy: 0.4166\n",
            "Epoch 5/5\n",
            "1407/1407 - 3s - loss: 1.5617 - accuracy: 0.4422 - val_loss: 1.6221 - val_accuracy: 0.4218\n"
          ],
          "name": "stdout"
        },
        {
          "output_type": "execute_result",
          "data": {
            "text/plain": [
              "<keras.callbacks.History at 0x7f76b651d050>"
            ]
          },
          "metadata": {
            "tags": []
          },
          "execution_count": 51
        }
      ]
    },
    {
      "cell_type": "code",
      "metadata": {
        "id": "daiPsYadydLx"
      },
      "source": [
        "train_acc.append(mlp_5.model.history.history['accuracy'][-1]) "
      ],
      "execution_count": null,
      "outputs": []
    },
    {
      "cell_type": "code",
      "metadata": {
        "id": "wmtSO0cWydLy"
      },
      "source": [
        "val_acc.append(mlp_5.model.history.history['val_accuracy'][-1]) "
      ],
      "execution_count": null,
      "outputs": []
    },
    {
      "cell_type": "markdown",
      "metadata": {
        "id": "4ULD2Sp2yJ8H"
      },
      "source": [
        "####  This sixth MLP contains \n",
        "#### &emsp; • Fully connected layer with 64 units and a sigmoid activation function\n",
        "#### &emsp; • Fully connected layer with 128 units and a sigmoid activation function\n",
        "#### &emsp; • Output layer with the suitable activation function and number of neurons for the classification task"
      ]
    },
    {
      "cell_type": "code",
      "metadata": {
        "id": "1ynuYMIFFc0U"
      },
      "source": [
        "inputs = keras.Input(shape=(3072,))\n",
        "x = keras.layers.Dense(64, activation='sigmoid')(inputs)\n",
        "y = keras.layers.Dense(128, activation='sigmoid')(x)\n",
        "outputs = keras.layers.Dense(10, activation=\"softmax\")(y)\n",
        "model_six = keras.Model(inputs=inputs, outputs=outputs)"
      ],
      "execution_count": null,
      "outputs": []
    },
    {
      "cell_type": "code",
      "metadata": {
        "colab": {
          "base_uri": "https://localhost:8080/"
        },
        "id": "HTNMq2XcGA0V",
        "outputId": "027f6674-076a-402a-a2e0-b1da5d85c12e"
      },
      "source": [
        "model_six.summary()"
      ],
      "execution_count": null,
      "outputs": [
        {
          "output_type": "stream",
          "text": [
            "Model: \"model\"\n",
            "_________________________________________________________________\n",
            "Layer (type)                 Output Shape              Param #   \n",
            "=================================================================\n",
            "input_1 (InputLayer)         [(None, 3072)]            0         \n",
            "_________________________________________________________________\n",
            "dense_29 (Dense)             (None, 64)                196672    \n",
            "_________________________________________________________________\n",
            "dense_30 (Dense)             (None, 128)               8320      \n",
            "_________________________________________________________________\n",
            "dense_31 (Dense)             (None, 10)                1290      \n",
            "=================================================================\n",
            "Total params: 206,282\n",
            "Trainable params: 206,282\n",
            "Non-trainable params: 0\n",
            "_________________________________________________________________\n"
          ],
          "name": "stdout"
        }
      ]
    },
    {
      "cell_type": "code",
      "metadata": {
        "id": "V5z7odGhGAfp"
      },
      "source": [
        "model_six.compile(loss=tf.keras.losses.SparseCategoricalCrossentropy(),optimizer = keras.optimizers.Adam(),metrics=['accuracy'])"
      ],
      "execution_count": null,
      "outputs": []
    },
    {
      "cell_type": "code",
      "metadata": {
        "id": "TPV5HMZRGWCO"
      },
      "source": [
        "models.append(6)\n",
        "num_hidden_layer.append(2)\n",
        "number_params.append(206282)"
      ],
      "execution_count": null,
      "outputs": []
    },
    {
      "cell_type": "code",
      "metadata": {
        "colab": {
          "base_uri": "https://localhost:8080/"
        },
        "id": "1PqvZXnrGqo1",
        "outputId": "b2e7e01e-1fdf-4da4-a864-ebcdb2d84aff"
      },
      "source": [
        "batch_size = 32\n",
        "epochs = 5\n",
        "model_six.fit(x = train_mlp ,y = y_mlp , batch_size = batch_size, epochs = epochs, verbose = 2 , validation_data = (val_mlp , val_y))"
      ],
      "execution_count": null,
      "outputs": [
        {
          "output_type": "stream",
          "text": [
            "Epoch 1/5\n",
            "1407/1407 - 3s - loss: 1.8251 - accuracy: 0.3551 - val_loss: 1.7523 - val_accuracy: 0.3842\n",
            "Epoch 2/5\n",
            "1407/1407 - 3s - loss: 1.7008 - accuracy: 0.4015 - val_loss: 1.6972 - val_accuracy: 0.4016\n",
            "Epoch 3/5\n",
            "1407/1407 - 3s - loss: 1.6478 - accuracy: 0.4220 - val_loss: 1.6814 - val_accuracy: 0.4060\n",
            "Epoch 4/5\n",
            "1407/1407 - 2s - loss: 1.6066 - accuracy: 0.4346 - val_loss: 1.6413 - val_accuracy: 0.4238\n",
            "Epoch 5/5\n",
            "1407/1407 - 2s - loss: 1.5728 - accuracy: 0.4433 - val_loss: 1.6224 - val_accuracy: 0.4306\n"
          ],
          "name": "stdout"
        },
        {
          "output_type": "execute_result",
          "data": {
            "text/plain": [
              "<keras.callbacks.History at 0x7f76b6310bd0>"
            ]
          },
          "metadata": {
            "tags": []
          },
          "execution_count": 58
        }
      ]
    },
    {
      "cell_type": "code",
      "metadata": {
        "id": "uUTEA71QG92S"
      },
      "source": [
        "train_acc.append(model_six.history.history['accuracy'][-1]) "
      ],
      "execution_count": null,
      "outputs": []
    },
    {
      "cell_type": "code",
      "metadata": {
        "id": "OWstGfksG92T"
      },
      "source": [
        "val_acc.append(model_six.history.history['val_accuracy'][-1]) "
      ],
      "execution_count": null,
      "outputs": []
    },
    {
      "cell_type": "markdown",
      "metadata": {
        "id": "5oBEZJSSQEsp"
      },
      "source": [
        "####  This seventh MLP contains \n",
        "#### &emsp; • Fully connected layer with 64 units and a sigmoid activation function\n",
        "#### &emsp; • Fully connected layer with 128 units and a sigmoid activation function\n",
        "#### &emsp; • Fully connected layer with 512 units and a sigmoid activation function\n",
        "#### &emsp; • Output layer with the suitable activation function and number of neurons for the classification task"
      ]
    },
    {
      "cell_type": "code",
      "metadata": {
        "id": "qIp0MEFWHRH2"
      },
      "source": [
        "inputs = keras.Input(shape=(3072,))\n",
        "c = keras.layers.Dense(64, activation='sigmoid')(inputs)\n",
        "d = keras.layers.Dense(128, activation='sigmoid')(c)\n",
        "e = keras.layers.Dense(512, activation='sigmoid')(d)\n",
        "outputs = keras.layers.Dense(10, activation=\"softmax\")(e)\n",
        "model_seven = keras.Model(inputs=inputs, outputs=outputs)"
      ],
      "execution_count": null,
      "outputs": []
    },
    {
      "cell_type": "code",
      "metadata": {
        "colab": {
          "base_uri": "https://localhost:8080/"
        },
        "id": "CnHvXezUHRH4",
        "outputId": "cc7aafce-2e5e-40b6-dd0b-dfc8211e4ff7"
      },
      "source": [
        "model_seven.summary()"
      ],
      "execution_count": null,
      "outputs": [
        {
          "output_type": "stream",
          "text": [
            "Model: \"model_1\"\n",
            "_________________________________________________________________\n",
            "Layer (type)                 Output Shape              Param #   \n",
            "=================================================================\n",
            "input_2 (InputLayer)         [(None, 3072)]            0         \n",
            "_________________________________________________________________\n",
            "dense_32 (Dense)             (None, 64)                196672    \n",
            "_________________________________________________________________\n",
            "dense_33 (Dense)             (None, 128)               8320      \n",
            "_________________________________________________________________\n",
            "dense_34 (Dense)             (None, 512)               66048     \n",
            "_________________________________________________________________\n",
            "dense_35 (Dense)             (None, 10)                5130      \n",
            "=================================================================\n",
            "Total params: 276,170\n",
            "Trainable params: 276,170\n",
            "Non-trainable params: 0\n",
            "_________________________________________________________________\n"
          ],
          "name": "stdout"
        }
      ]
    },
    {
      "cell_type": "code",
      "metadata": {
        "id": "S3EFyIJhHRH5"
      },
      "source": [
        "model_seven.compile(loss=tf.keras.losses.SparseCategoricalCrossentropy(),optimizer = keras.optimizers.Adam(),metrics=['accuracy'])"
      ],
      "execution_count": null,
      "outputs": []
    },
    {
      "cell_type": "code",
      "metadata": {
        "id": "_QC-U-pRHRH6"
      },
      "source": [
        "models.append(7)\n",
        "num_hidden_layer.append(3)\n",
        "number_params.append(276170)"
      ],
      "execution_count": null,
      "outputs": []
    },
    {
      "cell_type": "code",
      "metadata": {
        "colab": {
          "base_uri": "https://localhost:8080/"
        },
        "id": "EJZJYFQMHRH6",
        "outputId": "b2df1a89-8f9e-4189-e861-553c8e540001"
      },
      "source": [
        "batch_size = 32\n",
        "epochs = 5\n",
        "model_seven.fit(x = train_mlp ,y = y_mlp , batch_size = batch_size, epochs = epochs, verbose = 2 , validation_data = (val_mlp , val_y))"
      ],
      "execution_count": null,
      "outputs": [
        {
          "output_type": "stream",
          "text": [
            "Epoch 1/5\n",
            "1407/1407 - 4s - loss: 1.8937 - accuracy: 0.3056 - val_loss: 1.8124 - val_accuracy: 0.3470\n",
            "Epoch 2/5\n",
            "1407/1407 - 3s - loss: 1.7355 - accuracy: 0.3783 - val_loss: 1.7292 - val_accuracy: 0.3806\n",
            "Epoch 3/5\n",
            "1407/1407 - 3s - loss: 1.6691 - accuracy: 0.4041 - val_loss: 1.6779 - val_accuracy: 0.3954\n",
            "Epoch 4/5\n",
            "1407/1407 - 3s - loss: 1.6193 - accuracy: 0.4221 - val_loss: 1.6481 - val_accuracy: 0.4068\n",
            "Epoch 5/5\n",
            "1407/1407 - 3s - loss: 1.5853 - accuracy: 0.4352 - val_loss: 1.6245 - val_accuracy: 0.4172\n"
          ],
          "name": "stdout"
        },
        {
          "output_type": "execute_result",
          "data": {
            "text/plain": [
              "<keras.callbacks.History at 0x7f76b6192250>"
            ]
          },
          "metadata": {
            "tags": []
          },
          "execution_count": 65
        }
      ]
    },
    {
      "cell_type": "code",
      "metadata": {
        "id": "WI7m4sceHRH8"
      },
      "source": [
        "train_acc.append(model_seven.history.history['accuracy'][-1]) "
      ],
      "execution_count": null,
      "outputs": []
    },
    {
      "cell_type": "code",
      "metadata": {
        "id": "ylz33cxMHRH8"
      },
      "source": [
        "val_acc.append(model_seven.history.history['val_accuracy'][-1]) "
      ],
      "execution_count": null,
      "outputs": []
    },
    {
      "cell_type": "markdown",
      "metadata": {
        "id": "C4DmmQDURmbx"
      },
      "source": [
        "####  This eighth  MLP contains \n",
        "#### &emsp; • Fully connected layer with 512 units and a sigmoid activation function\n",
        "#### &emsp; • Fully connected layer with 256 units and a sigmoid activation function\n",
        "#### &emsp; • Fully connected layer with 128 units and a sigmoid activation function\n",
        "#### &emsp; • Fully connected layer with 64 units and a sigmoid activation function\n",
        "#### &emsp; • Output layer with the suitable activation function and number of neurons for the classification task"
      ]
    },
    {
      "cell_type": "code",
      "metadata": {
        "id": "5z1fM7BBIXnH"
      },
      "source": [
        "mlp_8 = MLP()"
      ],
      "execution_count": null,
      "outputs": []
    },
    {
      "cell_type": "code",
      "metadata": {
        "id": "ZX8F6rrjIXnK"
      },
      "source": [
        "mlp_8.model.pop()\n",
        "mlp_8.model.pop()\n",
        "mlp_8.model.add(Dense(256, activation = 'sigmoid'))\n",
        "mlp_8.model.add(Dense(128, activation = 'sigmoid'))\n",
        "mlp_8.model.add(Dense(64, activation = 'sigmoid'))\n",
        "mlp_8.model.add(Dense(10, activation = 'softmax'))"
      ],
      "execution_count": null,
      "outputs": []
    },
    {
      "cell_type": "code",
      "metadata": {
        "colab": {
          "base_uri": "https://localhost:8080/"
        },
        "id": "qMRBp57LIXnK",
        "outputId": "3d10e0c1-be1b-4ef3-c4a6-350b961ab455"
      },
      "source": [
        "mlp_8.model.summary()"
      ],
      "execution_count": null,
      "outputs": [
        {
          "output_type": "stream",
          "text": [
            "Model: \"sequential_5\"\n",
            "_________________________________________________________________\n",
            "Layer (type)                 Output Shape              Param #   \n",
            "=================================================================\n",
            "dense_36 (Dense)             (None, 512)               1573376   \n",
            "_________________________________________________________________\n",
            "dense_39 (Dense)             (None, 256)               131328    \n",
            "_________________________________________________________________\n",
            "dense_40 (Dense)             (None, 128)               32896     \n",
            "_________________________________________________________________\n",
            "dense_41 (Dense)             (None, 64)                8256      \n",
            "_________________________________________________________________\n",
            "dense_42 (Dense)             (None, 10)                650       \n",
            "=================================================================\n",
            "Total params: 1,746,506\n",
            "Trainable params: 1,746,506\n",
            "Non-trainable params: 0\n",
            "_________________________________________________________________\n"
          ],
          "name": "stdout"
        }
      ]
    },
    {
      "cell_type": "code",
      "metadata": {
        "id": "INmWAk4iIXnM"
      },
      "source": [
        "mlp_8.model.compile(loss=tf.keras.losses.SparseCategoricalCrossentropy(),optimizer = keras.optimizers.Adam(),metrics=['accuracy'])"
      ],
      "execution_count": null,
      "outputs": []
    },
    {
      "cell_type": "code",
      "metadata": {
        "id": "YvYOzZqaIXnN"
      },
      "source": [
        "models.append(8)\n",
        "num_hidden_layer.append(4)\n",
        "number_params.append(1746506)"
      ],
      "execution_count": null,
      "outputs": []
    },
    {
      "cell_type": "code",
      "metadata": {
        "colab": {
          "base_uri": "https://localhost:8080/"
        },
        "id": "J6bO6yFTIXnN",
        "outputId": "aa8329eb-4111-420e-b164-4f4ec6987e50"
      },
      "source": [
        "batch_size = 32\n",
        "epochs = 5\n",
        "mlp_8.model.fit(x = train_mlp ,y = y_mlp , batch_size = batch_size, epochs = epochs, verbose = 2 , validation_data = (val_mlp , val_y))"
      ],
      "execution_count": null,
      "outputs": [
        {
          "output_type": "stream",
          "text": [
            "Epoch 1/5\n",
            "1407/1407 - 4s - loss: 1.8416 - accuracy: 0.3343 - val_loss: 1.7248 - val_accuracy: 0.3786\n",
            "Epoch 2/5\n",
            "1407/1407 - 3s - loss: 1.6524 - accuracy: 0.4096 - val_loss: 1.6678 - val_accuracy: 0.4036\n",
            "Epoch 3/5\n",
            "1407/1407 - 3s - loss: 1.5795 - accuracy: 0.4357 - val_loss: 1.5967 - val_accuracy: 0.4252\n",
            "Epoch 4/5\n",
            "1407/1407 - 3s - loss: 1.5233 - accuracy: 0.4545 - val_loss: 1.5745 - val_accuracy: 0.4336\n",
            "Epoch 5/5\n",
            "1407/1407 - 3s - loss: 1.4786 - accuracy: 0.4754 - val_loss: 1.5519 - val_accuracy: 0.4452\n"
          ],
          "name": "stdout"
        },
        {
          "output_type": "execute_result",
          "data": {
            "text/plain": [
              "<keras.callbacks.History at 0x7f76b27a8890>"
            ]
          },
          "metadata": {
            "tags": []
          },
          "execution_count": 73
        }
      ]
    },
    {
      "cell_type": "code",
      "metadata": {
        "id": "QTz78_L2IXnP"
      },
      "source": [
        "train_acc.append(mlp_8.model.history.history['accuracy'][-1]) "
      ],
      "execution_count": null,
      "outputs": []
    },
    {
      "cell_type": "code",
      "metadata": {
        "id": "JDJm55qyIXnQ"
      },
      "source": [
        "val_acc.append(mlp_8.model.history.history['val_accuracy'][-1]) "
      ],
      "execution_count": null,
      "outputs": []
    },
    {
      "cell_type": "markdown",
      "metadata": {
        "id": "CS6cQKdxS5bO"
      },
      "source": [
        "####  This ninth  MLP contains \n",
        "#### &emsp; • Fully connected layer with 64 units and a sigmoid activation function\n",
        "#### &emsp; • Fully connected layer with 128 units and a sigmoid activation function\n",
        "#### &emsp; • Fully connected layer with 256 units and a sigmoid activation function\n",
        "#### &emsp; • Fully connected layer with 512 units and a sigmoid activation function\n",
        "#### &emsp; • Fully connected layer with 128 units and a sigmoid activation function\n",
        "#### &emsp; • Output layer with the suitable activation function and number of neurons for the classification task"
      ]
    },
    {
      "cell_type": "code",
      "metadata": {
        "id": "04XWk6q5Je9y"
      },
      "source": [
        "inputs = keras.Input(shape=(3072,))\n",
        "o = keras.layers.Dense(64, activation='sigmoid')(inputs)\n",
        "k = keras.layers.Dense(128, activation='sigmoid')(o)\n",
        "p = keras.layers.Dense(256, activation='sigmoid')(k)\n",
        "q = keras.layers.Dense(512, activation='sigmoid')(p)\n",
        "r = keras.layers.Dense(128, activation='sigmoid')(q)\n",
        "outputs = keras.layers.Dense(10, activation=\"softmax\")(r)\n",
        "model_nine = keras.Model(inputs=inputs, outputs=outputs)"
      ],
      "execution_count": null,
      "outputs": []
    },
    {
      "cell_type": "code",
      "metadata": {
        "colab": {
          "base_uri": "https://localhost:8080/"
        },
        "id": "xC3OW5snJe-K",
        "outputId": "f185787d-02e9-4fd1-a37e-7ac08f6d506d"
      },
      "source": [
        "model_nine.summary()"
      ],
      "execution_count": null,
      "outputs": [
        {
          "output_type": "stream",
          "text": [
            "Model: \"model_2\"\n",
            "_________________________________________________________________\n",
            "Layer (type)                 Output Shape              Param #   \n",
            "=================================================================\n",
            "input_3 (InputLayer)         [(None, 3072)]            0         \n",
            "_________________________________________________________________\n",
            "dense_43 (Dense)             (None, 64)                196672    \n",
            "_________________________________________________________________\n",
            "dense_44 (Dense)             (None, 128)               8320      \n",
            "_________________________________________________________________\n",
            "dense_45 (Dense)             (None, 256)               33024     \n",
            "_________________________________________________________________\n",
            "dense_46 (Dense)             (None, 512)               131584    \n",
            "_________________________________________________________________\n",
            "dense_47 (Dense)             (None, 128)               65664     \n",
            "_________________________________________________________________\n",
            "dense_48 (Dense)             (None, 10)                1290      \n",
            "=================================================================\n",
            "Total params: 436,554\n",
            "Trainable params: 436,554\n",
            "Non-trainable params: 0\n",
            "_________________________________________________________________\n"
          ],
          "name": "stdout"
        }
      ]
    },
    {
      "cell_type": "code",
      "metadata": {
        "id": "_0pIGQLoJe-M"
      },
      "source": [
        "model_nine.compile(loss=tf.keras.losses.SparseCategoricalCrossentropy(),optimizer = keras.optimizers.Adam(),metrics=['accuracy'])"
      ],
      "execution_count": null,
      "outputs": []
    },
    {
      "cell_type": "code",
      "metadata": {
        "id": "4_4Cc7fYJe-N"
      },
      "source": [
        "models.append(9)\n",
        "num_hidden_layer.append(5)\n",
        "number_params.append(436554)"
      ],
      "execution_count": null,
      "outputs": []
    },
    {
      "cell_type": "code",
      "metadata": {
        "colab": {
          "base_uri": "https://localhost:8080/"
        },
        "id": "gXbqSVt_Je-O",
        "outputId": "7e5bb064-5c38-49e2-b69e-ce91779c190f"
      },
      "source": [
        "batch_size = 32\n",
        "epochs = 5\n",
        "model_nine.fit(x = train_mlp ,y = y_mlp , batch_size = batch_size, epochs = epochs, verbose = 2 , validation_data = (val_mlp , val_y))"
      ],
      "execution_count": null,
      "outputs": [
        {
          "output_type": "stream",
          "text": [
            "Epoch 1/5\n",
            "1407/1407 - 4s - loss: 2.0164 - accuracy: 0.2227 - val_loss: 1.9195 - val_accuracy: 0.2758\n",
            "Epoch 2/5\n",
            "1407/1407 - 3s - loss: 1.8648 - accuracy: 0.3157 - val_loss: 1.8467 - val_accuracy: 0.3296\n",
            "Epoch 3/5\n",
            "1407/1407 - 3s - loss: 1.7978 - accuracy: 0.3475 - val_loss: 1.7881 - val_accuracy: 0.3512\n",
            "Epoch 4/5\n",
            "1407/1407 - 3s - loss: 1.7459 - accuracy: 0.3698 - val_loss: 1.7652 - val_accuracy: 0.3620\n",
            "Epoch 5/5\n",
            "1407/1407 - 3s - loss: 1.7052 - accuracy: 0.3866 - val_loss: 1.7190 - val_accuracy: 0.3840\n"
          ],
          "name": "stdout"
        },
        {
          "output_type": "execute_result",
          "data": {
            "text/plain": [
              "<keras.callbacks.History at 0x7f76b25ed290>"
            ]
          },
          "metadata": {
            "tags": []
          },
          "execution_count": 80
        }
      ]
    },
    {
      "cell_type": "code",
      "metadata": {
        "id": "1Jm31CPQJe-P"
      },
      "source": [
        "train_acc.append(model_nine.history.history['accuracy'][-1]) "
      ],
      "execution_count": null,
      "outputs": []
    },
    {
      "cell_type": "code",
      "metadata": {
        "id": "FEGi5LznJe-Q"
      },
      "source": [
        "val_acc.append(model_nine.history.history['val_accuracy'][-1]) "
      ],
      "execution_count": null,
      "outputs": []
    },
    {
      "cell_type": "markdown",
      "metadata": {
        "id": "t0QLirCzTooJ"
      },
      "source": [
        "####  This tenth  MLP contains \n",
        "#### &emsp; • Fully connected layer with 512 units and a sigmoid activation function\n",
        "#### &emsp; • Fully connected layer with 256 units and a sigmoid activation function\n",
        "#### &emsp; • Fully connected layer with 128 units and a sigmoid activation function\n",
        "#### &emsp; • Fully connected layer with 64 units and a sigmoid activation function\n",
        "#### &emsp; • Fully connected layer with 32 units and a sigmoid activation function\n",
        "#### &emsp; • Fully connected layer with 16 units and a sigmoid activation function\n",
        "#### &emsp; • Output layer with the suitable activation function and number of neurons for the classification task"
      ]
    },
    {
      "cell_type": "code",
      "metadata": {
        "id": "hBXq7iUtNqge"
      },
      "source": [
        "mlp_10 = MLP()"
      ],
      "execution_count": null,
      "outputs": []
    },
    {
      "cell_type": "code",
      "metadata": {
        "id": "4n8B8BwvNqgh"
      },
      "source": [
        "mlp_10.model.pop()\n",
        "mlp_10.model.pop()\n",
        "mlp_10.model.add(Dense(256, activation = 'sigmoid'))\n",
        "mlp_10.model.add(Dense(128, activation = 'sigmoid'))\n",
        "mlp_10.model.add(Dense(64, activation = 'sigmoid'))\n",
        "mlp_10.model.add(Dense(32, activation = 'sigmoid'))\n",
        "mlp_10.model.add(Dense(16, activation = 'sigmoid'))\n",
        "mlp_10.model.add(Dense(10, activation = 'softmax'))"
      ],
      "execution_count": null,
      "outputs": []
    },
    {
      "cell_type": "code",
      "metadata": {
        "colab": {
          "base_uri": "https://localhost:8080/"
        },
        "id": "3jDjvmW1Nqgi",
        "outputId": "a2ea3f72-5eeb-4dc9-c91f-5fb7809dcebf"
      },
      "source": [
        "mlp_10.model.summary()"
      ],
      "execution_count": null,
      "outputs": [
        {
          "output_type": "stream",
          "text": [
            "Model: \"sequential_6\"\n",
            "_________________________________________________________________\n",
            "Layer (type)                 Output Shape              Param #   \n",
            "=================================================================\n",
            "dense_49 (Dense)             (None, 512)               1573376   \n",
            "_________________________________________________________________\n",
            "dense_52 (Dense)             (None, 256)               131328    \n",
            "_________________________________________________________________\n",
            "dense_53 (Dense)             (None, 128)               32896     \n",
            "_________________________________________________________________\n",
            "dense_54 (Dense)             (None, 64)                8256      \n",
            "_________________________________________________________________\n",
            "dense_55 (Dense)             (None, 32)                2080      \n",
            "_________________________________________________________________\n",
            "dense_56 (Dense)             (None, 16)                528       \n",
            "_________________________________________________________________\n",
            "dense_57 (Dense)             (None, 10)                170       \n",
            "=================================================================\n",
            "Total params: 1,748,634\n",
            "Trainable params: 1,748,634\n",
            "Non-trainable params: 0\n",
            "_________________________________________________________________\n"
          ],
          "name": "stdout"
        }
      ]
    },
    {
      "cell_type": "code",
      "metadata": {
        "id": "fblTKVfvNqgj"
      },
      "source": [
        "mlp_10.model.compile(loss=tf.keras.losses.SparseCategoricalCrossentropy(),optimizer = keras.optimizers.Adam(),metrics=['accuracy'])"
      ],
      "execution_count": null,
      "outputs": []
    },
    {
      "cell_type": "code",
      "metadata": {
        "id": "Q2_DRpyqNqgk"
      },
      "source": [
        "models.append(10)\n",
        "num_hidden_layer.append(6)\n",
        "number_params.append(1748634)"
      ],
      "execution_count": null,
      "outputs": []
    },
    {
      "cell_type": "code",
      "metadata": {
        "colab": {
          "base_uri": "https://localhost:8080/"
        },
        "id": "fIMwIrDoNqgl",
        "outputId": "6faa6b27-062d-44eb-fb6f-bcb7e6343496"
      },
      "source": [
        "batch_size = 32\n",
        "epochs = 5\n",
        "mlp_10.model.fit(x = train_mlp ,y = y_mlp , batch_size = batch_size, epochs = epochs, verbose = 2 , validation_data = (val_mlp , val_y))"
      ],
      "execution_count": null,
      "outputs": [
        {
          "output_type": "stream",
          "text": [
            "Epoch 1/5\n",
            "1407/1407 - 4s - loss: 2.0877 - accuracy: 0.1958 - val_loss: 1.9975 - val_accuracy: 0.2398\n",
            "Epoch 2/5\n",
            "1407/1407 - 3s - loss: 1.9288 - accuracy: 0.2618 - val_loss: 1.8799 - val_accuracy: 0.3082\n",
            "Epoch 3/5\n",
            "1407/1407 - 3s - loss: 1.8288 - accuracy: 0.3102 - val_loss: 1.8120 - val_accuracy: 0.3334\n",
            "Epoch 4/5\n",
            "1407/1407 - 3s - loss: 1.7751 - accuracy: 0.3368 - val_loss: 1.7999 - val_accuracy: 0.3358\n",
            "Epoch 5/5\n",
            "1407/1407 - 3s - loss: 1.7211 - accuracy: 0.3595 - val_loss: 1.7436 - val_accuracy: 0.3622\n"
          ],
          "name": "stdout"
        },
        {
          "output_type": "execute_result",
          "data": {
            "text/plain": [
              "<keras.callbacks.History at 0x7f76b23c2710>"
            ]
          },
          "metadata": {
            "tags": []
          },
          "execution_count": 88
        }
      ]
    },
    {
      "cell_type": "code",
      "metadata": {
        "id": "cSu8QOcENqgm"
      },
      "source": [
        "train_acc.append(mlp_10.model.history.history['accuracy'][-1]) "
      ],
      "execution_count": null,
      "outputs": []
    },
    {
      "cell_type": "code",
      "metadata": {
        "id": "MciIP48UNqgn"
      },
      "source": [
        "val_acc.append(mlp_10.model.history.history['val_accuracy'][-1]) "
      ],
      "execution_count": null,
      "outputs": []
    },
    {
      "cell_type": "markdown",
      "metadata": {
        "id": "6cpYhhPDQe-g"
      },
      "source": [
        "#### Displaying Results "
      ]
    },
    {
      "cell_type": "code",
      "metadata": {
        "id": "k9aFmjx3mmS8"
      },
      "source": [
        "acc_train = np.around(train_acc, decimals=3, out=None)"
      ],
      "execution_count": null,
      "outputs": []
    },
    {
      "cell_type": "code",
      "metadata": {
        "id": "fCwvaaVhmqdn"
      },
      "source": [
        "acc_val = np.around(val_acc, decimals=3, out=None)"
      ],
      "execution_count": null,
      "outputs": []
    },
    {
      "cell_type": "code",
      "metadata": {
        "id": "04Am8Vp8kRpW"
      },
      "source": [
        "vls = np.c_[models,acc_train,acc_val,num_hidden_layer, number_params]"
      ],
      "execution_count": null,
      "outputs": []
    },
    {
      "cell_type": "code",
      "metadata": {
        "id": "_VrWvZldf_Bh"
      },
      "source": [
        "df = pd.DataFrame(data = vls,columns=['models' , 'training accuracies','validation accuracies',\"num_hidden_layer\",\"num_of_parameters\"])"
      ],
      "execution_count": null,
      "outputs": []
    },
    {
      "cell_type": "code",
      "metadata": {
        "colab": {
          "base_uri": "https://localhost:8080/"
        },
        "id": "fYugWQ5wf-YJ",
        "outputId": "53f9b0b3-9686-4431-e6b0-aad4faa473df"
      },
      "source": [
        "fig, ax = plt.subplots()\n",
        "fig.set_size_inches(8, 3)\n",
        "fig.patch.set_visible(True)\n",
        "ax.axis('off')\n",
        "ax.axis('tight')\n",
        "ax.table(cellText= df.values, colLabels= df.columns,loc='center')\n",
        "fig.tight_layout()\n",
        "fig.savefig('accuracy_table.png', dpi=100)\n",
        "plt.show()"
      ],
      "execution_count": null,
      "outputs": [
        {
          "output_type": "display_data",
          "data": {
            "image/png": "[encoded data removed]",
            "text/plain": [
              "<Figure size 576x216 with 1 Axes>"
            ]
          },
          "metadata": {
            "tags": [],
            "needs_background": "light"
          }
        }
      ]
    },
    {
      "cell_type": "code",
      "metadata": {
        "id": "g6UXhrWLkjya"
      },
      "source": [
        ""
      ],
      "execution_count": null,
      "outputs": []
    },
    {
      "cell_type": "markdown",
      "metadata": {
        "id": "BssHifweaCjJ"
      },
      "source": [
        "#### Testing the MLP model\n",
        "##### Here we used the best MLP network(Which is the first network) to predict on the test data"
      ]
    },
    {
      "cell_type": "code",
      "metadata": {
        "id": "_4QLz7SpamtT"
      },
      "source": [
        "prediction = mlp.model.predict(test_x)"
      ],
      "execution_count": null,
      "outputs": []
    },
    {
      "cell_type": "code",
      "metadata": {
        "id": "IdAZ_Cr2cgNj"
      },
      "source": [
        "y_pred = np.argmax(prediction, axis=1)"
      ],
      "execution_count": null,
      "outputs": []
    },
    {
      "cell_type": "code",
      "metadata": {
        "id": "ysRVBJUwckEk"
      },
      "source": [
        "mlp_test = accuracy_score(y_test, y_pred)"
      ],
      "execution_count": null,
      "outputs": []
    },
    {
      "cell_type": "markdown",
      "metadata": {
        "id": "lvtvk8PxINw-"
      },
      "source": [
        "### Next we create two arrays, the first one stores the train accuracy for best MLP , CNN 1 and CNN 2 the second stores the test accuracy for the best MLP , CNN 1 and CNN 2"
      ]
    },
    {
      "cell_type": "code",
      "metadata": {
        "id": "2H7iRzQjI8St"
      },
      "source": [
        "acc = []\n",
        "test = []"
      ],
      "execution_count": null,
      "outputs": []
    },
    {
      "cell_type": "code",
      "metadata": {
        "id": "-Ea15NUAJRAO"
      },
      "source": [
        "#Here we store the train and test accuracies for mlp\n",
        "acc.append(train_v)\n",
        "test.append(mlp_test)"
      ],
      "execution_count": null,
      "outputs": []
    },
    {
      "cell_type": "markdown",
      "metadata": {
        "id": "fERNli3yRV68"
      },
      "source": [
        "### Next we create a callback function to calculate and return the training time for each CNN model."
      ]
    },
    {
      "cell_type": "code",
      "metadata": {
        "id": "lgbh-d0zRzmu"
      },
      "source": [
        "import time \n",
        "class timecallback(tf.keras.callbacks.Callback):\n",
        "    def __init__(self):\n",
        "        self.times = []\n",
        "        # use this value as reference to calculate cumulative time taken\n",
        "        self.timetaken = time.process_time()\n",
        "    def on_epoch_end(self,epoch,logs = {}):\n",
        "        self.times.append((epoch, time.process_time() - self.timetaken))\n",
        "    def on_train_end(self,logs = {}):\n",
        "        from operator import itemgetter\n",
        "        previous_time = 0\n",
        "        for item in self.times:\n",
        "            # print(\"Epoch \", item[0], \" run time is: \", item[1]-previous_time)\n",
        "            previous_time = item[1]\n",
        "        print(\"Total trained time is: \", previous_time)\n",
        "\n",
        "timetaken = timecallback()\n",
        "callbacks = [\n",
        "    timetaken\n",
        "]\n"
      ],
      "execution_count": null,
      "outputs": []
    },
    {
      "cell_type": "markdown",
      "metadata": {
        "id": "f0sep1Kiftwu"
      },
      "source": [
        "### Here we created the CNN  models\n",
        "#### First we created the 2D Convolutional layer with the relu activation function by subclassing the layers class in keras."
      ]
    },
    {
      "cell_type": "code",
      "metadata": {
        "id": "xkLCnZHhgAwI"
      },
      "source": [
        "class CNNSect(layers.Layer):\n",
        "  def __init__(self, out_channels, kernel_size = (3,3) ):\n",
        "    super(CNNSect , self).__init__()\n",
        "    self.conv = layers.Conv2D(out_channels, kernel_size)\n",
        "\n",
        "  def call(self, input_tensor):\n",
        "    x = self.conv(input_tensor)\n",
        "    x = tf.nn.relu(x)\n",
        "    return x       \n"
      ],
      "execution_count": null,
      "outputs": []
    },
    {
      "cell_type": "markdown",
      "metadata": {
        "id": "Q29vtgNesbC4"
      },
      "source": [
        "#### Next we created the CNN 1 using the keras sequenctial API"
      ]
    },
    {
      "cell_type": "code",
      "metadata": {
        "id": "Q1n42vHosaXb"
      },
      "source": [
        "cnn_one = keras.Sequential(\n",
        "        [\n",
        "          CNNSect(64),\n",
        "          CNNSect(64),\n",
        "          layers.Flatten(),\n",
        "          layers.Dense(512, activation = 'sigmoid'),         \n",
        "          layers.Dense(512, activation = 'sigmoid'),\n",
        "          layers.Dense(10, activation = 'softmax')\n",
        "        ]\n",
        ")"
      ],
      "execution_count": null,
      "outputs": []
    },
    {
      "cell_type": "code",
      "metadata": {
        "id": "9WdAygRrplDM"
      },
      "source": [
        "cnn_one.compile(loss=tf.keras.losses.SparseCategoricalCrossentropy(),optimizer = keras.optimizers.Adam(),metrics=['accuracy'])"
      ],
      "execution_count": null,
      "outputs": []
    },
    {
      "cell_type": "code",
      "metadata": {
        "id": "xtsuO9pQynta"
      },
      "source": [
        "#Here we obtained the validation set for data in 3D for the covolution model\n",
        "x_train_cnn , y_train_cnn , val_x_cnn , val_y_cnn = split_data(x_train , y_train , 90)"
      ],
      "execution_count": null,
      "outputs": []
    },
    {
      "cell_type": "code",
      "metadata": {
        "colab": {
          "base_uri": "https://localhost:8080/"
        },
        "id": "hgEJVR-NvnTM",
        "outputId": "ee1a77e7-fa97-46f7-89bf-68af1848bd84"
      },
      "source": [
        "batch_size = 32\n",
        "epochs = 5\n",
        "cnn_one.fit(x = x_train_cnn , y = y_train_cnn, batch_size = batch_size, epochs = epochs, callbacks=callbacks , verbose = 2 , validation_data=(val_x_cnn,val_y_cnn))\n",
        "# cnn_one.evaluate(x_test, y_test , batch_size = batch_size, verbose = 2)"
      ],
      "execution_count": null,
      "outputs": [
        {
          "output_type": "stream",
          "text": [
            "Epoch 1/5\n",
            "1407/1407 - 27s - loss: 1.3060 - accuracy: 0.5260 - val_loss: 1.0223 - val_accuracy: 0.6398\n",
            "Epoch 2/5\n",
            "1407/1407 - 5s - loss: 0.8013 - accuracy: 0.7212 - val_loss: 0.9947 - val_accuracy: 0.6608\n",
            "Epoch 3/5\n",
            "1407/1407 - 5s - loss: 0.4254 - accuracy: 0.8564 - val_loss: 1.0938 - val_accuracy: 0.6682\n",
            "Epoch 4/5\n",
            "1407/1407 - 5s - loss: 0.1462 - accuracy: 0.9550 - val_loss: 1.4069 - val_accuracy: 0.6550\n",
            "Epoch 5/5\n",
            "1407/1407 - 5s - loss: 0.0682 - accuracy: 0.9787 - val_loss: 1.7646 - val_accuracy: 0.6526\n",
            "Total trained time is:  42.53964423100001\n"
          ],
          "name": "stdout"
        },
        {
          "output_type": "execute_result",
          "data": {
            "text/plain": [
              "<keras.callbacks.History at 0x7f76a4376a10>"
            ]
          },
          "metadata": {
            "tags": []
          },
          "execution_count": 106
        }
      ]
    },
    {
      "cell_type": "code",
      "metadata": {
        "id": "Hr967V8UKFwH"
      },
      "source": [
        "history_cnn_1 = cnn_one.history.history"
      ],
      "execution_count": null,
      "outputs": []
    },
    {
      "cell_type": "code",
      "metadata": {
        "id": "XZ_5TP3UR0Cm"
      },
      "source": [
        "acc.append(cnn_one.history.history['accuracy'][-1])\n"
      ],
      "execution_count": null,
      "outputs": []
    },
    {
      "cell_type": "code",
      "metadata": {
        "id": "eYyAswRsSR54"
      },
      "source": [
        "prediction_cnn_1 = cnn_one.predict(x_test)"
      ],
      "execution_count": null,
      "outputs": []
    },
    {
      "cell_type": "code",
      "metadata": {
        "id": "zc7XFZlnSR55"
      },
      "source": [
        "y_pred_cnn_1 = np.argmax(prediction_cnn_1, axis=1)"
      ],
      "execution_count": null,
      "outputs": []
    },
    {
      "cell_type": "code",
      "metadata": {
        "id": "ARiIOe9oSR56"
      },
      "source": [
        "cnn_one_test = accuracy_score(y_test, y_pred_cnn_1)"
      ],
      "execution_count": null,
      "outputs": []
    },
    {
      "cell_type": "code",
      "metadata": {
        "id": "DAeW_JZbSGbv"
      },
      "source": [
        "test.append(cnn_one_test)"
      ],
      "execution_count": null,
      "outputs": []
    },
    {
      "cell_type": "code",
      "metadata": {
        "id": "Y0tvehdDTWIh"
      },
      "source": [
        ""
      ],
      "execution_count": null,
      "outputs": []
    },
    {
      "cell_type": "code",
      "metadata": {
        "id": "bnMOIan9TXLx"
      },
      "source": [
        ""
      ],
      "execution_count": null,
      "outputs": []
    },
    {
      "cell_type": "markdown",
      "metadata": {
        "id": "8k_cvTpPT0F1"
      },
      "source": [
        "#### Next we created the CNN 2 using the keras sequenctial API"
      ]
    },
    {
      "cell_type": "code",
      "metadata": {
        "id": "Ae2j0d6tT4rl"
      },
      "source": [
        ""
      ],
      "execution_count": null,
      "outputs": []
    },
    {
      "cell_type": "code",
      "metadata": {
        "id": "K3VMWZLqT5ed"
      },
      "source": [
        "cnn_two = keras.Sequential(\n",
        "        [\n",
        "          CNNSect(64),\n",
        "          layers.MaxPooling2D(pool_size=(2,2)),\n",
        "          CNNSect(64),\n",
        "          layers.MaxPooling2D(pool_size=(2,2)),\n",
        "          layers.Flatten(),\n",
        "          layers.Dense(512, activation = 'sigmoid'),   \n",
        "          layers.Dropout(0.2),      \n",
        "          layers.Dense(512, activation = 'sigmoid'),\n",
        "          layers.Dropout(0.2),\n",
        "          layers.Dense(10, activation = 'softmax')\n",
        "        ]\n",
        ")"
      ],
      "execution_count": null,
      "outputs": []
    },
    {
      "cell_type": "code",
      "metadata": {
        "id": "EvkFubC3T5ee"
      },
      "source": [
        "cnn_two.compile(loss=tf.keras.losses.SparseCategoricalCrossentropy(),optimizer = keras.optimizers.Adam(),metrics=['accuracy'])"
      ],
      "execution_count": null,
      "outputs": []
    },
    {
      "cell_type": "code",
      "metadata": {
        "colab": {
          "base_uri": "https://localhost:8080/"
        },
        "id": "wrCGR0MmT5eg",
        "outputId": "8eddc969-01a4-4638-a32b-b7986e9b7315"
      },
      "source": [
        "batch_size = 32\n",
        "epochs = 5\n",
        "cnn_two.fit(x = x_train_cnn , y = y_train_cnn, batch_size = batch_size, epochs = epochs,callbacks=callbacks,verbose = 2 , validation_data=(val_x_cnn,val_y_cnn))\n",
        "# cnn_one.evaluate(x_test, y_test , batch_size = batch_size, verbose = 2)"
      ],
      "execution_count": null,
      "outputs": [
        {
          "output_type": "stream",
          "text": [
            "Epoch 1/5\n",
            "1407/1407 - 6s - loss: 1.4025 - accuracy: 0.4894 - val_loss: 1.1303 - val_accuracy: 0.5914\n",
            "Epoch 2/5\n",
            "1407/1407 - 4s - loss: 0.9918 - accuracy: 0.6491 - val_loss: 0.9322 - val_accuracy: 0.6722\n",
            "Epoch 3/5\n",
            "1407/1407 - 4s - loss: 0.8139 - accuracy: 0.7130 - val_loss: 0.8241 - val_accuracy: 0.7156\n",
            "Epoch 4/5\n",
            "1407/1407 - 4s - loss: 0.6766 - accuracy: 0.7632 - val_loss: 0.7875 - val_accuracy: 0.7332\n",
            "Epoch 5/5\n",
            "1407/1407 - 4s - loss: 0.5598 - accuracy: 0.8029 - val_loss: 0.8440 - val_accuracy: 0.7102\n",
            "Total trained time is:  78.82739322900005\n"
          ],
          "name": "stdout"
        },
        {
          "output_type": "execute_result",
          "data": {
            "text/plain": [
              "<keras.callbacks.History at 0x7f769e61a190>"
            ]
          },
          "metadata": {
            "tags": []
          },
          "execution_count": 115
        }
      ]
    },
    {
      "cell_type": "code",
      "metadata": {
        "id": "mrQZA4NMT5eh"
      },
      "source": [
        "history_cnn_2 = cnn_two.history.history"
      ],
      "execution_count": null,
      "outputs": []
    },
    {
      "cell_type": "code",
      "metadata": {
        "id": "v1AeFfr-T5ei"
      },
      "source": [
        "acc.append(cnn_two.history.history['accuracy'][-1])\n"
      ],
      "execution_count": null,
      "outputs": []
    },
    {
      "cell_type": "code",
      "metadata": {
        "id": "Tr-JypW8T5ej"
      },
      "source": [
        "prediction_cnn_2 = cnn_two.predict(x_test)"
      ],
      "execution_count": null,
      "outputs": []
    },
    {
      "cell_type": "code",
      "metadata": {
        "id": "9gg4-kPoT5ej"
      },
      "source": [
        "y_pred_cnn_2 = np.argmax(prediction_cnn_2, axis=1)"
      ],
      "execution_count": null,
      "outputs": []
    },
    {
      "cell_type": "code",
      "metadata": {
        "id": "ErZNHiGgT5ek"
      },
      "source": [
        "cnn_two_test = accuracy_score(y_test, y_pred_cnn_2)"
      ],
      "execution_count": null,
      "outputs": []
    },
    {
      "cell_type": "code",
      "metadata": {
        "id": "uqhuwWXbT5ek"
      },
      "source": [
        "test.append(cnn_two_test)"
      ],
      "execution_count": null,
      "outputs": []
    },
    {
      "cell_type": "markdown",
      "metadata": {
        "id": "92FEWJqzaRFV"
      },
      "source": [
        "#### Next we display the train and test accuracy of the networks"
      ]
    },
    {
      "cell_type": "code",
      "metadata": {
        "id": "ZK3_-282aNWx"
      },
      "source": [
        ""
      ],
      "execution_count": null,
      "outputs": []
    },
    {
      "cell_type": "code",
      "metadata": {
        "id": "ohxfc0zdamNi"
      },
      "source": [
        "acc_x = np.around(acc, decimals=3, out=None)"
      ],
      "execution_count": null,
      "outputs": []
    },
    {
      "cell_type": "code",
      "metadata": {
        "id": "qGMBPeMPamNj"
      },
      "source": [
        "acc_y = np.around(test, decimals=3, out=None)"
      ],
      "execution_count": null,
      "outputs": []
    },
    {
      "cell_type": "code",
      "metadata": {
        "id": "ERd6vzgcamNk"
      },
      "source": [
        "vln = np.c_[acc_x, acc_y]"
      ],
      "execution_count": null,
      "outputs": []
    },
    {
      "cell_type": "code",
      "metadata": {
        "id": "VDADRONLamNm"
      },
      "source": [
        "df_1 = pd.DataFrame(data = vln, index = ['MLP' , 'CNN1' , 'CNN2'],columns=['training accuracies','test accuracies'])"
      ],
      "execution_count": null,
      "outputs": []
    },
    {
      "cell_type": "code",
      "metadata": {
        "id": "xFIXjmFxcJNF"
      },
      "source": [
        ""
      ],
      "execution_count": null,
      "outputs": []
    },
    {
      "cell_type": "code",
      "metadata": {
        "colab": {
          "base_uri": "https://localhost:8080/"
        },
        "id": "Sgrl4lOmamNn",
        "outputId": "73e5e6a0-ac85-4c87-d453-d477335357d4"
      },
      "source": [
        "fig, ax = plt.subplots()\n",
        "fig.set_size_inches(8, 3)\n",
        "fig.patch.set_visible(True)\n",
        "ax.axis('off')\n",
        "ax.axis('tight')\n",
        "ax.table(cellText= df_1.values,rowLabels=df_1.index ,colLabels= df_1.columns,loc='center')\n",
        "fig.tight_layout()\n",
        "fig.savefig('networks_accuracy.png', dpi=100)\n",
        "plt.show()"
      ],
      "execution_count": null,
      "outputs": [
        {
          "output_type": "display_data",
          "data": {
            "image/png": "[encoded data removed]",
            "text/plain": [
              "<Figure size 576x216 with 1 Axes>"
            ]
          },
          "metadata": {
            "tags": [],
            "needs_background": "light"
          }
        }
      ]
    },
    {
      "cell_type": "markdown",
      "metadata": {
        "id": "j8c0ppn0AzJj"
      },
      "source": [
        "### Here we plotted the graph of the training accuracy and loss for both CNNs'"
      ]
    },
    {
      "cell_type": "code",
      "metadata": {
        "id": "6DjSHgn1BEe8"
      },
      "source": [
        "accuracy_one = history_cnn_1[\"accuracy\"]"
      ],
      "execution_count": null,
      "outputs": []
    },
    {
      "cell_type": "code",
      "metadata": {
        "id": "a8s96-pWBXKz"
      },
      "source": [
        "loss_one = history_cnn_1[\"loss\"]"
      ],
      "execution_count": null,
      "outputs": []
    },
    {
      "cell_type": "code",
      "metadata": {
        "id": "mxOmMo3lKE8V"
      },
      "source": [
        "val_accuracy = history_cnn_1[\"val_accuracy\"]"
      ],
      "execution_count": null,
      "outputs": []
    },
    {
      "cell_type": "code",
      "metadata": {
        "id": "w6UJfsk4KZox"
      },
      "source": [
        "val_loss = history_cnn_1[\"val_loss\"]"
      ],
      "execution_count": null,
      "outputs": []
    },
    {
      "cell_type": "code",
      "metadata": {
        "id": "sGPGdSVcBe6W"
      },
      "source": [
        "accuracy_two = history_cnn_2[\"accuracy\"]"
      ],
      "execution_count": null,
      "outputs": []
    },
    {
      "cell_type": "code",
      "metadata": {
        "id": "-xbYwDUKBvKo"
      },
      "source": [
        "loss_two = history_cnn_2[\"loss\"]"
      ],
      "execution_count": null,
      "outputs": []
    },
    {
      "cell_type": "code",
      "metadata": {
        "id": "bWN-tsfEKhcZ"
      },
      "source": [
        "val_accuracy_two = history_cnn_2[\"val_accuracy\"]"
      ],
      "execution_count": null,
      "outputs": []
    },
    {
      "cell_type": "code",
      "metadata": {
        "id": "CEqs4ZzfKhca"
      },
      "source": [
        "val_loss_two = history_cnn_2[\"val_loss\"]"
      ],
      "execution_count": null,
      "outputs": []
    },
    {
      "cell_type": "code",
      "metadata": {
        "id": "DpWSSgnlCtRC"
      },
      "source": [
        "epochs = [1,2,3,4,5]"
      ],
      "execution_count": null,
      "outputs": []
    },
    {
      "cell_type": "code",
      "metadata": {
        "colab": {
          "base_uri": "https://localhost:8080/",
          "height": 280
        },
        "id": "xbeWTkzeB-Fu",
        "outputId": "0cee5523-25a3-4042-da54-6e5440b4410b"
      },
      "source": [
        "fig = plt.figure()\n",
        "ax = fig.add_subplot(111)\n",
        "ax.plot(epochs, accuracy_one, color='lightblue', linewidth=2)\n",
        "ax.plot(epochs, accuracy_two, color='orange', linewidth=2)\n",
        "ax.plot(epochs, val_accuracy, color='blue', linewidth=2)\n",
        "ax.plot(epochs, val_accuracy_two, color='red', linewidth=2)\n",
        "ax.set_xlim(auto = True)\n",
        "ax.set_ylim(top = 1.2)\n",
        "plt.title(\"CNN 1 vs CNN 2 - Accuracy\")\n",
        "plt.grid(which='major',color='green',linestyle = '--', linewidth = 0.5)\n",
        "plt.legend([\"Train Accuracy CNN 1 \", \"Train Accuracy CNN 2\",\"Validation Accuracy CNN 1\", \"Validation Accuracy CNN 2\"])\n",
        "plt.savefig('accuracy_compare.png',dpi=100)"
      ],
      "execution_count": null,
      "outputs": [
        {
          "output_type": "display_data",
          "data": {
            "image/png": "[encoded data removed]",
            "text/plain": [
              "<Figure size 432x288 with 1 Axes>"
            ]
          },
          "metadata": {
            "tags": [],
            "needs_background": "light"
          }
        }
      ]
    },
    {
      "cell_type": "code",
      "metadata": {
        "colab": {
          "base_uri": "https://localhost:8080/",
          "height": 280
        },
        "id": "Gob5glftHLUr",
        "outputId": "e2a7999e-3c73-4f83-dfcc-fcbf1f2757f8"
      },
      "source": [
        "fig = plt.figure()\n",
        "ax = fig.add_subplot(111)\n",
        "ax.plot(epochs, loss_one, color='black', linewidth=2)\n",
        "ax.plot(epochs, loss_two, color='aqua', linewidth=2)\n",
        "ax.plot(epochs, val_loss, color='purple', linewidth=2)\n",
        "ax.plot(epochs, val_loss_two, color='teal', linewidth=2)\n",
        "ax.set_xlim(auto = True)\n",
        "ax.set_ylim(top = 2.9)\n",
        "plt.title(\"CNN 1 vs CNN 2 - Loss\")\n",
        "plt.grid(which='major',color='black',linestyle = '--', linewidth = 0.5, zorder = 0.01)\n",
        "plt.legend([\"Train Loss CNN 1\", \"Train Loss CNN 2\" , \"Validation Loss CNN 1\", \"Validation Loss CNN 2\"])\n",
        "plt.savefig('loss_compare.png',dpi=100)"
      ],
      "execution_count": null,
      "outputs": [
        {
          "output_type": "display_data",
          "data": {
            "image/png": "[encoded data removed]",
            "text/plain": [
              "<Figure size 432x288 with 1 Axes>"
            ]
          },
          "metadata": {
            "tags": [],
            "needs_background": "light"
          }
        }
      ]
    }
  ]
}