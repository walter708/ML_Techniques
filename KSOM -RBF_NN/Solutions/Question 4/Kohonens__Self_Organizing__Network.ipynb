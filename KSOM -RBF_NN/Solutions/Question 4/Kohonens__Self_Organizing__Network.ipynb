{
  "nbformat": 4,
  "nbformat_minor": 0,
  "metadata": {
    "colab": {
      "name": "Kohonens _Self_Organizing _Network.ipynb",
      "provenance": []
    },
    "kernelspec": {
      "name": "python3",
      "display_name": "Python 3"
    },
    "language_info": {
      "name": "python"
    }
  },
  "cells": [
    {
      "cell_type": "code",
      "metadata": {
        "id": "JeNSXb7sqcea"
      },
      "source": [
        "import numpy as np\n",
        "import matplotlib.pyplot as plt\n",
        "from matplotlib import patches"
      ],
      "execution_count": 1,
      "outputs": []
    },
    {
      "cell_type": "markdown",
      "metadata": {
        "id": "fpcDiT0yqzW0"
      },
      "source": [
        "# QUESTION 4\n",
        "\n",
        "## Implemaentation of Kohonen’s Self-Organizing Network\n",
        "\n",
        "\n",
        "---\n",
        "\n",
        "\n",
        "### From the question we are told that:\n",
        "#### The train set consist of 24 colours \n",
        "#### The output is a 100 by 100 grid of neurons representing colour clusters \n",
        "#### The number of epochs is $T = 1000$\n",
        "#### The initial learning rate has a value $\\alpha_{o}  =  0.8$ \n",
        "#### The decay of the learning rate is mathematically defined as \n",
        "\\begin{align}\n",
        "    \\alpha_{k} = \\alpha_{o}e^{-\\frac{k}{T}}\n",
        "\\end{align}\n",
        "#### Here k represents the current epoch\n",
        "#### The topological neighbourhood $N_{i,j}(k)$ of node (j) around the winning unit (i) is given by\n",
        "\\begin{align}\n",
        "    N_{i,j}(k) = e^{[-\\frac{d_{i,j}^2}{2\\sigma^2(k)}]}\n",
        "\\end{align}\n",
        "#### Here $\\sigma$ is threshold distance for a neuron to be considered as neighbour to the winning neuron(know as radius) and it is defined from the question as \n",
        "\\begin{align}\n",
        "    \\sigma_{k} = \\sigma_{o}e^{[-\\frac{k}{T}]}\n",
        "\\end{align}\n",
        "#### The variation for $\\sigma_o$ for each training stage as given is the question is  $\\sigma_o$ = 1, 10, 30, 50, 70. \n",
        "\n",
        "<p>&nbsp;</p>\n",
        "\n",
        "#### According to the question we are to generate figure at defined epochs of the training , also we are to carry out the training for each value of $\\sigma_o$ and we are to provide a description of how the output changes with the change in $\\sigma_o$\n",
        "\n",
        "<p>&nbsp;</p>\n",
        "\n",
        "#### To achieve this we created as class name `KSOM` and then defined all the neccessary function.This `call` method within this class is then called with different values of $\\sigma_o$ in order to carry out the analysis and come up with an observation"
      ]
    },
    {
      "cell_type": "code",
      "metadata": {
        "id": "WHaNC4NX0kSG"
      },
      "source": [
        ""
      ],
      "execution_count": 1,
      "outputs": []
    },
    {
      "cell_type": "markdown",
      "metadata": {
        "id": "kHf5-ykK2PvE"
      },
      "source": [
        "### Creating the training data\n",
        "\n",
        "           [255, 99, 71], --> tomato\n",
        "           [255, 127, 80], --> coral\n",
        "           [205, 92, 92], -->  indian red\n",
        "           [240, 128, 128], --> light coral\n",
        "           [0, 128, 0],  -->  green\n",
        "           [0, 100, 0], -->   dark green\n",
        "           [34, 139, 34], --> \tforest green\n",
        "           [144, 238, 144], --> light green\n",
        "           [85, 107, 47],  --> \tdark olive green\n",
        "           [65, 105, 225], --> royal blue\n",
        "           [0, 0, 205],  --> \tmedium blue\n",
        "           [25, 25, 112], --> midnight blue\n",
        "           [0, 128, 128], --> Teal\n",
        "           [255, 255, 0], --> \tYellow\n",
        "           [255, 192, 203], --> pink\n",
        "           [0, 128, 128],  --> Teal\n",
        "           [255, 255, 0], --> \tYellow\n",
        "           [255, 192, 203], --> pink\n",
        "           [135, 206, 250], --> light sky blue\n",
        "           [173, 216, 230], --> light blue\n",
        "           [139, 0, 0], --> dark red\n",
        "           [255, 69, 0], --> \torange red\n",
        "           [154, 205, 50], --> yellow green\n",
        "           [0, 255, 0] --> lime"
      ]
    },
    {
      "cell_type": "code",
      "metadata": {
        "id": "y4UdRzCU2Y49"
      },
      "source": [
        "raw_data=[ [255, 99, 71],\n",
        "           [255, 127, 80],\n",
        "           [205, 92, 92],\n",
        "           [240, 128, 128],\n",
        "           [0, 128, 0],\n",
        "           [0, 100, 0],\n",
        "           [34, 139, 34],\n",
        "           [144, 238, 144],\n",
        "           [85, 107, 47],\n",
        "           [65, 105, 225],\n",
        "           [0, 0, 205],\n",
        "           [25, 25, 112],\n",
        "           [0, 128, 128],\n",
        "           [255, 255, 0],\n",
        "           [255, 192, 203],\n",
        "           [0, 128, 128],\n",
        "           [255, 255, 0],\n",
        "           [255, 192, 203],\n",
        "           [135, 206, 250],\n",
        "           [173, 216, 230],\n",
        "           [139, 0, 0],\n",
        "           [255, 69, 0], \n",
        "           [154, 205, 50],\n",
        "           [0, 255, 0] \n",
        "          ]"
      ],
      "execution_count": 2,
      "outputs": []
    },
    {
      "cell_type": "code",
      "metadata": {
        "id": "ZHDeopvL6R0N"
      },
      "source": [
        "# Converting the data to numpy array and shuffling\n",
        "raw_data = np.array(raw_data)\n",
        "# np.random.shuffle(raw_data)"
      ],
      "execution_count": 3,
      "outputs": []
    },
    {
      "cell_type": "code",
      "metadata": {
        "id": "Obz2aUgi6eEM"
      },
      "source": [
        "# Normalizing the data by dividing by 255\n",
        "data = raw_data/255"
      ],
      "execution_count": 4,
      "outputs": []
    },
    {
      "cell_type": "code",
      "metadata": {
        "id": "BH5BLByM6dpq"
      },
      "source": [
        "# obtaining the shape of the data \n",
        "a = data.shape[0]\n",
        "b = data.shape[1]"
      ],
      "execution_count": 5,
      "outputs": []
    },
    {
      "cell_type": "code",
      "metadata": {
        "id": "AVCwAZ9MLcHQ"
      },
      "source": [
        "# defining the output dimension\n",
        "dimension = np.array([100,100])"
      ],
      "execution_count": 6,
      "outputs": []
    },
    {
      "cell_type": "code",
      "metadata": {
        "id": "CAikEy9P6dUy"
      },
      "source": [
        "class KSOM:\n",
        "  # Defining the constructor \n",
        "  def __init__(self, data, epochs, a, b, init_alpha, dimension):\n",
        "    \n",
        "    self.data = data\n",
        "    self.epochs = epochs\n",
        "    self.init_alpha = init_alpha\n",
        "    self.a = a\n",
        "    self.b = b\n",
        "    self.output = np.random.random((dimension[0],dimension[1],b))\n",
        "    self.epoch = 0\n",
        "\n",
        "  #Defining  the print function\n",
        "  def print_grid(self , output, epoch, radius):\n",
        "    %matplotlib inline\n",
        "    fig = plt.figure( figsize=( 10 , 10 ) )\n",
        "    ax=fig.add_subplot(111,aspect=\"equal\")\n",
        "    ax.set_xlim((0,output.shape[0]+1))\n",
        "    ax.set_ylim((0,output.shape[1]+1))\n",
        "    ax.set_title(\" Kohonens Self Organising Map 100 X 100 Grid\")\n",
        "    for u in range(1,output.shape[0]+1):\n",
        "      for v in range(1,output.shape[1]+1):\n",
        "        ax.add_patch(patches.Rectangle((u-0.5,v-0.5),1,1,\n",
        "                                       facecolor=output[u-1,v-1,:],edgecolor=None))\n",
        "    string = f'Image for {epoch} epoch at radius :{radius}.png'\n",
        "    plt.savefig(string)\n",
        "\n",
        "\n",
        "  # Defining the function to decrease the radius as the training proceeds\n",
        "  def degrade_radius(self , init_radius, epoch ,epochs):\n",
        "    return init_radius*np.exp(-epoch/epochs)\n",
        "  \n",
        "  #Defining the function to decrease the learning rate as the training proceeds\n",
        "  def degrade_alpha(self, init_alpha, epoch, epochs):\n",
        "    return init_alpha* np.exp(-epoch/epochs)\n",
        "\n",
        " # Defining the  neighbourhood function\n",
        "  def influence_cal(self, dist, radius):\n",
        "    return np.exp(-dist/(2*(radius**2)))\n",
        "  \n",
        "  # Defining the function to determine the \n",
        "  def obtain_distance(self, c, d):\n",
        "      return np.sqrt(np.sum((c - d)**2))\n",
        "  \n",
        "  # This function finds the winner node and its index\n",
        "  def learn_out(self, point, output):\n",
        "    dummy_dist=1000000\n",
        "    for x in range(output.shape[0]):\n",
        "        for y in range(output.shape[1]):\n",
        "            unit=output[x,y].reshape(1,-1)\n",
        "            point=point.reshape(1,-1)\n",
        "            dist = self.obtain_distance(unit,point)\n",
        "            if dist < dummy_dist:\n",
        "                dummy_dist = dist\n",
        "                winner = output[x,y]\n",
        "                winner_idx=np.array([x,y])\n",
        "    return (winner, winner_idx)\n",
        "\n",
        "  #This function updtades output grid\n",
        "  def fit_map(self, epoch, epochs, output, init_radius,init_alpha,data,a,b):\n",
        "    #randomly selecting datapoint from the dataset\n",
        "    point = data[np.random.randint(0,a),:]\n",
        "\n",
        "    # assigning the value for radius \n",
        "    radius = self.degrade_radius(init_radius, epoch, epochs)\n",
        "\n",
        "    #assigning the value for learning rate\n",
        "    alpha = self.degrade_alpha(init_alpha, epoch, epochs)\n",
        "\n",
        "    #obtaining the winner node and its index\n",
        "    winner, winner_idx = self.learn_out(point,output)\n",
        "\n",
        "    #Iterate through the grid to update it \n",
        "    for x in range(output.shape[0]):\n",
        "      for y in range(output.shape[1]):\n",
        "        net = output[x,y].reshape(1,b)\n",
        "\n",
        "        #Obtain the distance between position of the winner and that of\n",
        "        #every other node\n",
        "        diff = self.obtain_distance(np.array([[x,y]]), winner_idx.reshape(1,2))\n",
        "\n",
        "        if diff < radius:\n",
        "          # This provide the amount of upadate a node would get base on its \n",
        "          # closeness to the winner node\n",
        "          impact = self.influence_cal(diff , radius)\n",
        "\n",
        "          #updating the node on a grid\n",
        "          new_node_val = net + (alpha * impact * (point.reshape(1,-1) - net))\n",
        "\n",
        "          #Replace the old grid node with the update\n",
        "          output[x,y] =  new_node_val.reshape(1,3)\n",
        "\n",
        "    \n",
        "\n",
        "  # defining the call function through which the values of differnts values of \n",
        "  # radius for differnt training session\n",
        "  def call(self , init_radius):\n",
        "    self.print_grid(self.output, self.epoch, init_radius) \n",
        "    for epoch in range(0 , self.epochs+1):\n",
        "      self.epoch = epoch\n",
        "      self.fit_map(epoch, self.epochs, self.output,\n",
        "              init_radius,self.init_alpha,self.data,self.a,self.b)\n",
        "      if(epoch == 20 or epoch == 40 or epoch == 100 or epoch == 1000):\n",
        "        self.print_grid(self.output, self.epoch, init_radius)\n",
        "\n",
        "    self.epoch = 0\n",
        "\n",
        "\n",
        "\n",
        "\n",
        "\n",
        "\n",
        "\n",
        "\n",
        "\n",
        "  "
      ],
      "execution_count": 7,
      "outputs": []
    },
    {
      "cell_type": "markdown",
      "metadata": {
        "id": "eaC6G-goNIsa"
      },
      "source": [
        "## Intialization of class and analysis \n",
        "#### Here we initialize the class with `initial learning rate = 0.8`\n",
        "#### Also for the call method we start the value of radius($\\sigma_o$)\n",
        "#### with  `1` and then increase it to the rest of the values(`10, 30, 50, 70`) defined in the question as  we carry out the analysis. "
      ]
    },
    {
      "cell_type": "code",
      "metadata": {
        "id": "7ewUZQ4PMxCR"
      },
      "source": [
        "ksom_1  = KSOM(data, 1000, a, b, 0.8, dimension)"
      ],
      "execution_count": 8,
      "outputs": []
    },
    {
      "cell_type": "markdown",
      "metadata": {
        "id": "Q6HurZWV7Bm1"
      },
      "source": [
        "### Inorder to get different output of the grid for different values of $\\sigma_o$ just change the argument to the `ksom_1` object call function below to the desired value of $\\sigma_o$ and the imgages for various epochs will be stored on your local system."
      ]
    },
    {
      "cell_type": "code",
      "metadata": {
        "colab": {
          "base_uri": "https://localhost:8080/",
          "height": 607
        },
        "id": "zLNzoeskOISi",
        "outputId": "b7c3d0de-5ccd-4227-b47a-6d81782a5eb6"
      },
      "source": [
        "ksom_1.call(70)"
      ],
      "execution_count": 9,
      "outputs": [
        {
          "output_type": "display_data",
          "data": {
            "image/png": "[encoded data removed]",
            "text/plain": [
              "<Figure size 720x720 with 1 Axes>"
            ]
          },
          "metadata": {
            "tags": [],
            "needs_background": "light"
          }
        }
      ]
    },
    {
      "cell_type": "code",
      "metadata": {
        "id": "oOCyJ_v-OH0F"
      },
      "source": [
        ""
      ],
      "execution_count": 9,
      "outputs": []
    }
  ]
}