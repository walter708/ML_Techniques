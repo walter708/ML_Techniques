{
  "cells": [
    {
      "cell_type": "code",
      "execution_count": 1,
      "metadata": {
        "id": "Ukt4P4cx1z1m"
      },
      "outputs": [],
      "source": [
        "import numpy as np"
      ]
    },
    {
      "cell_type": "code",
      "execution_count": 2,
      "metadata": {
        "id": "5uBUPed57wrM"
      },
      "outputs": [],
      "source": [
        "from sklearn.metrics import mean_squared_error , accuracy_score\n",
        "import matplotlib.pyplot as plt"
      ]
    },
    {
      "cell_type": "code",
      "execution_count": 3,
      "metadata": {
        "id": "CRiLVn2bnQJ2"
      },
      "outputs": [],
      "source": [
        "from IPython.display import Image"
      ]
    },
    {
      "cell_type": "markdown",
      "metadata": {
        "id": "4SaJEc-X5QSw"
      },
      "source": [
        "# Implementation of RBFNN \n",
        "\n",
        "\n",
        "\n"
      ]
    },
    {
      "cell_type": "markdown",
      "metadata": {
        "id": "hEJTmVJVFS8j"
      },
      "source": [
        "### Firs we are going to generate the values for $x_i$ and $x_j$ using \n",
        "\\begin{align}\n",
        "         x_i = -2 + 0.2i\\ \\ \\  \\ \\ \\ \\ \\ \\ \\ \\ i = 0,1,. . . ,20\\\\\n",
        "         x_j = -2 + 0.2j\\ \\ \\  \\ \\ \\ \\ \\ \\ \\ \\ j = 0,1,. . . ,20\\\\\n",
        "         Where  -2 \\le x_i , x_j \\le 2\n",
        "\\end{align}\n",
        "&emsp; To achieve this we created a function called generate"
      ]
    },
    {
      "cell_type": "code",
      "execution_count": 4,
      "metadata": {
        "id": "JdTNANSIHVFy"
      },
      "outputs": [],
      "source": [
        "def generate():\n",
        "  xi = []\n",
        "  for i in range(21):\n",
        "    temp = -2 + 0.2 * i\n",
        "    xi.append(temp)\n",
        "  xj = xi.copy()\n",
        "  return np.array(xi) , np.array(xj)"
      ]
    },
    {
      "cell_type": "markdown",
      "metadata": {
        "id": "_vmv6Wy1Js_m"
      },
      "source": [
        "#### Next we generate the training set which is 441 randomly sampled data points defined as\n",
        "\\begin{align}\n",
        "x  =(x_i , x_j)\n",
        "\\end{align}\n",
        "&ensp; To achieve this we create a function data_gen "
      ]
    },
    {
      "cell_type": "code",
      "execution_count": 5,
      "metadata": {
        "id": "jZ1eVF8WIpN8"
      },
      "outputs": [],
      "source": [
        "def data_gen(x_i , x_j):\n",
        "  data = []\n",
        "  for i in range(len(x_i)):\n",
        "    for j in range(len(x_j)):\n",
        "      tmp = x_j[np.random.choice(range(len(x_j)), replace=False)]\n",
        "      data.append([xi[i] , tmp])\n",
        "  return np.array(data) "
      ]
    },
    {
      "cell_type": "code",
      "execution_count": 6,
      "metadata": {
        "colab": {
          "base_uri": "https://localhost:8080/"
        },
        "id": "1EVn08ujI31i",
        "outputId": "3d3fded1-19e4-4a67-8db9-6a83762f247a"
      },
      "outputs": [
        {
          "data": {
            "text/plain": [
              "(441, 2)"
            ]
          },
          "execution_count": 6,
          "metadata": {
            "tags": []
          },
          "output_type": "execute_result"
        }
      ],
      "source": [
        "xi , xj = generate()\n",
        "dataset = data_gen(xi , xj)\n",
        "dataset.shape"
      ]
    },
    {
      "cell_type": "markdown",
      "metadata": {
        "id": "mzQ2btrtSsrS"
      },
      "source": [
        "### Next we generate the labels for the dataset using \n",
        "\\begin{align}\n",
        "f(x)= \n",
        "\\begin{cases}\n",
        "    +1,& \\text{if } \\ \\ \\ x_1^2 + x_2^2 \\leq 1\\\\\n",
        "    -1,              & \\text{if }\\ \\ \\ x_1^2 + x_2^2 > 1\n",
        "\\end{cases}\\\\\n",
        "      \\text{Over a  region} -2< x_1 < 2 \\ \\text{and} -2 <  x_2 < 2  \n",
        "\\end{align}\n",
        "\n",
        "&ensp; To achieve this we create a function called `calc`  this function determine the conditions \n",
        "\n",
        "&ensp; and the we also create another function `label_gen` generate the labels"
      ]
    },
    {
      "cell_type": "code",
      "execution_count": 7,
      "metadata": {
        "id": "EzHxjBk8Shvb"
      },
      "outputs": [],
      "source": [
        "def calc(x):\n",
        "  tep = x[0] ** 2 + x[1] ** 2\n",
        "  return  1 if (tep < 1 or tep == 1) else -1"
      ]
    },
    {
      "cell_type": "code",
      "execution_count": 8,
      "metadata": {
        "id": "5kkKFSVSSkbF"
      },
      "outputs": [],
      "source": [
        "def label_gen(dataset):\n",
        "  labels = []\n",
        "  for v in dataset:\n",
        "    labels.append(calc(v))\n",
        "  return np.array(labels)\n"
      ]
    },
    {
      "cell_type": "code",
      "execution_count": 9,
      "metadata": {
        "id": "RwVo_OnFesac"
      },
      "outputs": [],
      "source": [
        "labels = label_gen(dataset)\n"
      ]
    },
    {
      "cell_type": "code",
      "execution_count": 9,
      "metadata": {
        "id": "8BCUdsQjsUxW"
      },
      "outputs": [],
      "source": []
    },
    {
      "cell_type": "code",
      "execution_count": 9,
      "metadata": {
        "id": "oaph94H5sT3I"
      },
      "outputs": [],
      "source": []
    },
    {
      "cell_type": "code",
      "execution_count": 10,
      "metadata": {
        "id": "y-L91PZJfJzY"
      },
      "outputs": [],
      "source": [
        "# count = 0 \n",
        "# for i in labels:\n",
        "#   if i == 1:\n",
        "#     count+= 1\n",
        "# print(count)"
      ]
    },
    {
      "cell_type": "code",
      "execution_count": 10,
      "metadata": {
        "id": "aF851cPysO-r"
      },
      "outputs": [],
      "source": []
    },
    {
      "cell_type": "markdown",
      "metadata": {
        "id": "e9Stfg1YsacC"
      },
      "source": [
        "#### Next we create a function called `obtain_distance` to calculate the L2 Norm distance between datapoints and centriods "
      ]
    },
    {
      "cell_type": "code",
      "execution_count": 11,
      "metadata": {
        "id": "Sl88B978s0Lh"
      },
      "outputs": [],
      "source": [
        "def obtain_distance(c , d):\n",
        "  sum = 0 \n",
        "\n",
        "  for i in range( len( c ) ):\n",
        "\n",
        "    sum += (c[i] - d[i])**2\n",
        "\n",
        "  return np.sqrt( sum )  "
      ]
    },
    {
      "cell_type": "code",
      "execution_count": 11,
      "metadata": {
        "id": "mHd5ZWUUzoie"
      },
      "outputs": [],
      "source": []
    },
    {
      "cell_type": "markdown",
      "metadata": {
        "id": "ns58bumf47i1"
      },
      "source": [
        "Next we implement a kmeans clustering algorithm using a function we call `clustering`.\n",
        "\n",
        "This function take in the dataset , the number of centroids desired and the maximum number of iterations"
      ]
    },
    {
      "cell_type": "code",
      "execution_count": 12,
      "metadata": {
        "id": "ESXhVODU5UbL"
      },
      "outputs": [],
      "source": [
        "def clustering(X , num_cluster, max_it):\n",
        "  #Radomly choosing the centroids\n",
        "  np.random.seed(0)\n",
        "  centers = X[np.random.choice( range( len(X) ) , num_cluster , replace=False )]\n",
        "  \n",
        "  # initializing the converger and iteration tracker\n",
        "  converge = False\n",
        "\n",
        "  current_it = 0 \n",
        "\n",
        "  # Performing the kmeans clustering operation with help of a while loop\n",
        "  \n",
        "  while (not converge) and (current_it < max_it):\n",
        "    # create a list holds items that belongs to each centroid(center) for each \n",
        "    # iteration\n",
        "    groups = [[] for i in range( len( centers ) )]\n",
        "\n",
        "    #iterate through the dataset\n",
        " \n",
        "    for x in X:\n",
        "      # create a list that hold the distance between a datapoint and all\n",
        "      # the centers\n",
        "      distnce_vals = []\n",
        "\n",
        "      #iterate through the center and add items that belong to each center\n",
        "      for c in centers:\n",
        "        distnce_vals.append(obtain_distance(c , x))\n",
        "      groups[int( np.argmin( distnce_vals ) )].append( x )\n",
        "\n",
        "    groups = list( filter( None , groups ) )\n",
        "\n",
        "    # store the current centers for convergence checking\n",
        "    prev_centers = centers.copy()\n",
        "    \n",
        "    # clear the  centers array using reinitialization method\n",
        "    centers = []\n",
        "\n",
        "    # generaing new using the mean of each custer in groups \n",
        "    for k in groups:\n",
        "      centers.append( np.mean( k , axis = 0 ) )\n",
        "    \n",
        "    #calculating the difference btw the sum of pervious centers and current\n",
        "    #centers\n",
        "    diff = np.abs( np.sum( prev_centers ) - np.sum( centers ) )\n",
        "    \n",
        "    # print('K-MEANS {}'.format(diff))\n",
        "\n",
        "    converge = (diff == 0) \n",
        "     \n",
        "    current_it += 1\n",
        "\n",
        "  # std = np.mean([np.std(x) for x in groups])\n",
        "\n",
        "  return np.array(centers)\n",
        "          \n"
      ]
    },
    {
      "cell_type": "markdown",
      "metadata": {
        "id": "L_W39_OIlNkA"
      },
      "source": [
        "#### Given that a method to obtain the center and the spread has been defined \n",
        "\n",
        "#### We then created a class to implemented the supervised learning aspected of \n",
        "#### RBFNN.\n",
        "\n",
        "#### Here the RBF values for each node in the hidden layer is obtained using the  Gaussian kernel function defined as\n",
        "\\begin{align}\n",
        "     rbf\\_val = e^{- \\frac{||x - c||^2}{2\\sigma^2}}\n",
        "\\end{align}\n",
        "#### Here  `c` is the vector denoting the center of the radial function\n",
        "#### &emsp; `x` is the input vector\n",
        "#### `|| x - c ||` is an L2 Norm distance between the input vector and the vector denoting the center of the RBF function.\n",
        "\n",
        "Also to obtain the weight of the network we used the Least Squares Linear Regression equation\n",
        "\\begin{align}\n",
        "     W = (G^T G)^{−1}G^T Y\n",
        "\\end{align}\n",
        "\n",
        "#### The `check` argumeent passed to the call function defines centriods and spread parameter to \n",
        "#### use. when the value is `True`, the train dataset is used as the centroid while the spread parameter `std` passed as argument to the function is used , and this is done to meet up with the requirment of part one of question 3.When the value of `check` is `False` the centroid is generated using the `clustering` function defined above,which implements the kmeans clustering algorithm and the spread parameter is obtained from clustering function as well, here the value of the spread parameter is obtained as the the mean of the standard deviations of each cluster.This second aspect of `check` is done to meet the requirement of part 2 of question 3.\n"
      ]
    },
    {
      "cell_type": "code",
      "execution_count": 13,
      "metadata": {
        "id": "foE_4w6Mmnnc"
      },
      "outputs": [],
      "source": [
        "class RBFNN:\n",
        "\n",
        "  def __init__(self, train_X , train_y ,test_X , test_y \n",
        "               , num_centers , num_class):\n",
        "\n",
        "    self.train_X = train_X\n",
        "\n",
        "    self.train_y = train_y\n",
        "\n",
        "    self.test_X = test_X\n",
        "\n",
        "    self.test_y = test_y\n",
        "\n",
        "    self.num_centers = num_centers\n",
        "    self.num_class = num_class\n",
        "\n",
        "\n",
        "  # This function converts the lables into one hot encoded format \n",
        "  def one_hot_encoding(self, lab, num_class):\n",
        "    # creating a matrix of  labels x number of classes\n",
        "    arr = np.zeros((len(lab), num_class))\n",
        "\n",
        "    # assigning the value 1 to position in the matrix that represent \n",
        "    # a value in the labels array\n",
        "    for i in range(len(lab)):\n",
        "        c = int(lab[i])\n",
        "        if c == -1:\n",
        "          arr[i][0] = 1 \n",
        "        else:\n",
        "          arr[i][c] = 1\n",
        "    return np.array(arr)\n",
        "\n",
        "  # Here we created a function that obtains the RBF value for each node in the\n",
        "  # the hidden layer\n",
        "  def rbf_val(self, x , mu , std):\n",
        "    dist = obtain_distance(x , mu)\n",
        "\n",
        "    return  np.exp(- dist **2 / (2 *  std** 2) )\n",
        "\n",
        "\n",
        "  # Next we create a matrix containing the RFB vectors of each data point\n",
        "  #using the a function rfb_mat \n",
        "  # Note that list_s is a list of spreads for each node in the hidden layer\n",
        "  def rbf_mat(self ,  X , centers , list_s):\n",
        "    RBF_Hidden = []\n",
        "    for x in X:\n",
        "      RBF_Hidden.append([ self.rbf_val( x , c , s ) for\n",
        "                         ( c , s ) in zip(centers , list_s)])\n",
        "\n",
        "    return np.array(RBF_Hidden)\n",
        "\n",
        "  #Next we define a fit function(\"call\") which will take as argument a variable\n",
        "  #called par which is used to vary the spread for the nodes in the hidden layer\n",
        "  def call(self,par,std, check):\n",
        "\n",
        "    #Here we intialize the spread parameter\n",
        "    self.std = std\n",
        "\n",
        "    # First we check if the argument \"check\" is 0 \n",
        "    # if check is 0 we self.centroids to the training dataset\n",
        "    if(check == 0):\n",
        "      self.centroids = self.train_X\n",
        "      print(self.num_centers)\n",
        "    #First we check if the argument \"check\" is 1 if check is 1 we obtain the \n",
        "    #centroid from the clustering function\n",
        "    if(check == 1):\n",
        "      self.centroids = clustering(self.train_X , self.num_centers, max_it=1000)\n",
        "      print(self.num_centers)\n",
        "    #First we check if the argument \"check\" is 2 if check is 2 we obtain the \n",
        "    #centroid by random selection from the training dataset\n",
        "    if(check == 2):\n",
        "      \n",
        "      np.random.seed(0)\n",
        "      self.centroids = self.train_X[np.random.choice( \n",
        "          range(len(self.train_X)),self.num_centers , replace=False)]\n",
        "      print(len(self.centroids))\n",
        "\n",
        "      \n",
        "    \n",
        "    #Next we add the par to the spread std \n",
        "    # and then create an array list_s whose lenght is the number of centers\n",
        "    \n",
        "    # self.s = self.std\n",
        "    self.std +=par\n",
        "    print(self.std)\n",
        "    self.list_s = np.repeat(self.std,self.num_centers)\n",
        "\n",
        "    #Next we forward propagate the training set and then obtain \n",
        "    # the RBF_list matrix \n",
        "\n",
        "    RBF_Train = self.rbf_mat(self.train_X , self.centroids , self.list_s)\n",
        "\n",
        "    # Next we calculate the weights of the network by applying \n",
        "    # the formula above  \n",
        "    self.one = self.one_hot_encoding(self.train_y,self.num_class)\n",
        "    self.W = np.linalg.pinv(RBF_Train.T @ RBF_Train) @ RBF_Train.T @ self.one\n",
        "    # self.W = np.dot(np.linalg.pinv(RBF_Train), self.one)\n",
        "    # Next we used the weights obtained to get a one hot encoded \n",
        "    # output matrix for train set\n",
        "    self.predict_t = RBF_Train @ self.W\n",
        "\n",
        "    # Next we converted the output matrix to array of classes\n",
        "    self.predict_t = np.array( [ np.argmax( k ) for  k in self.predict_t ] )\n",
        "    # Here we convert the 0 values in the array to -1\n",
        "    for i in range(len(self.predict_t)):\n",
        "      if (self.predict_t[i] == 0):\n",
        "        self.predict_t[i] = -1\n",
        "        \n",
        "\n",
        "    # Next  we calculate the training accuracy\n",
        "    # error_t = self.predict_t - self.train_y\n",
        "\n",
        "    # accuracy_train = (len( np.where(error_t == 0 )[0] )) / len(error_t) *100\n",
        "    accuracy_train = accuracy_score(self.train_y , self.predict_t) * 100\n",
        "    print(f\"Training accuracy: {accuracy_train}%\" )\n",
        "\n",
        "\n",
        "\n",
        "    # Next we used the test set to obtain RBF matrix for the test set\n",
        "    RBF_Test = self.rbf_mat(self.test_X , self.centroids , self.list_s)\n",
        "\n",
        "    # Next we used the weights obtained to get a one hot encoded \n",
        "    # output matrix for test set\n",
        "    self.predict = RBF_Test @ self.W\n",
        "\n",
        "    # Next we converted the output matrix to array of classes\n",
        "    self.predict = np.array( [ np.argmax( z ) for  z in self.predict ] ) \n",
        "    for i in range(len(self.predict)):\n",
        "      if (self.predict[i] == 0):\n",
        "        self.predict[i] = -1\n",
        "\n",
        "\n",
        "    # Next  we calculate the testing accuracy\n",
        "    # error = self.predict - self.test_y\n",
        "    # accuracy_test = (len( np.where(error == 0 )[0] )) / len(error) *100\n",
        "    accuracy_test = accuracy_score(self.test_y , self.predict) * 100\n",
        "    print(f\"Testing accuracy: {accuracy_test} %\" )\n",
        "\n",
        "\n",
        "    # Next we calculate the mean squared error\n",
        "    self.mse = mean_squared_error(self.test_y , self.predict)\n",
        "    return self.mse \n",
        "\n"
      ]
    },
    {
      "cell_type": "markdown",
      "metadata": {
        "id": "VzoBceI_9W6I"
      },
      "source": [
        "### Dataset Preparation \n",
        "&emsp; Here the we split the data 80 / 20 "
      ]
    },
    {
      "cell_type": "code",
      "execution_count": 13,
      "metadata": {
        "id": "lxIU8Edl9JbG"
      },
      "outputs": [],
      "source": []
    },
    {
      "cell_type": "code",
      "execution_count": 14,
      "metadata": {
        "id": "xxERYW8LXh4K"
      },
      "outputs": [],
      "source": [
        "# Here our goal is to split the data into train data and validation data \n",
        "\n",
        "def split_data(X, y, percent):\n",
        "    #Created a dummy array with the size of the dataset\n",
        "    np.random.seed(1) \n",
        "    arr_rand = np.random.rand(X.shape[0])\n",
        "\n",
        "    #This creates a randomly populated array of boolean variables the length \n",
        "    # of the arr_rand\n",
        "    split = arr_rand < np.percentile(arr_rand, percent)\n",
        "    #Here the spliting for test and train is carried out using the \n",
        "    #array of boolean variables \n",
        "    X_train = X[split]  \n",
        "    y_train = y[split]\n",
        "    X_test =  X[~split]\n",
        "    y_test =  y[~split]\n",
        "\n",
        "    # print(f\"{len(X_train)}, {len(y_train)}, {len(X_test)}, {len(y_test)}\")\n",
        "    return X_train, y_train, X_test, y_test"
      ]
    },
    {
      "cell_type": "code",
      "execution_count": 15,
      "metadata": {
        "id": "7oUfj3BP-KeN"
      },
      "outputs": [],
      "source": [
        "X_train , y_train , X_test, y_test = split_data(dataset, labels, 80)"
      ]
    },
    {
      "cell_type": "markdown",
      "metadata": {
        "id": "R1lv9MaeF-pP"
      },
      "source": [
        "## Considering Question 3 -> i\r\n",
        "&emsp; Here we are told to vary the spread and report\r\n",
        "\r\n",
        "&emsp; 1 -> a graph showing the relationship between spread values and means squared error.\r\n",
        "\r\n",
        "&emsp; 2 - > The testing accuracy for each variation \r\n",
        " \r\n",
        "&emsp; 3 -> the training accuracy for each variation\r\n",
        "\r\n",
        "&emsp; To achieve this we created an array containing 10 items which are values to be add to our original spread value \r\n",
        "\r\n",
        "### The orignal spread values is  `1.5`\r\n",
        "### The variations are ` [0.1,0.2,0.3,0.4,0.5,0.6,0.7,0.8,0.9,1.0]`\r\n"
      ]
    },
    {
      "cell_type": "code",
      "execution_count": 16,
      "metadata": {
        "id": "1lhjJuTjF7HX"
      },
      "outputs": [],
      "source": [
        "sigma = 1.5\n",
        "variations = [0,1,2,3,4,5,6,7,8,9,10]"
      ]
    },
    {
      "cell_type": "code",
      "execution_count": 16,
      "metadata": {
        "id": "T0sqa7GgZ5Pi"
      },
      "outputs": [],
      "source": []
    },
    {
      "cell_type": "code",
      "execution_count": 17,
      "metadata": {
        "id": "PKkCNMpaZhKC"
      },
      "outputs": [],
      "source": [
        "#initializing the RBFNN class\n",
        "num_centers = len(X_train)\n",
        "rbf = RBFNN(X_train , y_train ,X_test , y_test , num_centers , 2)"
      ]
    },
    {
      "cell_type": "code",
      "execution_count": null,
      "metadata": {
        "id": "Rs9T_kRXK_NF"
      },
      "outputs": [],
      "source": [
        "va_val = []\n",
        "mse_list = []\n",
        "for i in range(len(variations)):\n",
        "  par = variations[i]\n",
        "  temp = sigma + variations[i]\n",
        "  mse = rbf.call(variations[i], sigma , 0)\n",
        "  va_val.append(temp)\n",
        "  mse_list.append(mse)"
      ]
    },
    {
      "cell_type": "code",
      "execution_count": 19,
      "metadata": {
        "colab": {
          "base_uri": "https://localhost:8080/",
          "height": 265
        },
        "id": "aH1K1Wr_cakO",
        "outputId": "893f3c84-0e4d-47d0-c717-9c9db72837a5"
      },
      "outputs": [
        {
          "data": {
            "image/png": "[encoded data removed]",
            "text/plain": [
              "<Figure size 432x288 with 1 Axes>"
            ]
          },
          "metadata": {
            "needs_background": "light",
            "tags": []
          },
          "output_type": "display_data"
        }
      ],
      "source": [
        "fig = plt.figure()\n",
        "ax = fig.add_subplot(111)\n",
        "ax.plot(va_val, mse_list, color='lightblue', linewidth=3)\n",
        "ax.set_xlim(auto = True)\n",
        "plt.savefig('mse_vs_var1.png')"
      ]
    },
    {
      "cell_type": "code",
      "execution_count": 25,
      "metadata": {
        "id": "K-zbL8pQvhPa"
      },
      "outputs": [],
      "source": []
    },
    {
      "cell_type": "markdown",
      "metadata": {
        "id": "Pos65HNvGMF7"
      },
      "source": [
        "##  Discussion\n",
        "\n",
        "#### The Training and Testing accuracy with their respective values of spread\n",
        "\n",
        "\n",
        "\n",
        "Training accuracy&emsp;&emsp;&emsp;Testing accuracy&emsp;&emsp;&emsp;Spread value\n",
        "\n",
        " 98.86%&emsp;&emsp;&emsp;&emsp;&emsp;&emsp;&emsp;&emsp;&emsp;98.87%&emsp;&emsp;&emsp;&emsp;&emsp;&emsp;&emsp;&emsp;&emsp;1.5\n",
        "\n",
        "\n",
        " 97.16%&emsp;&emsp;&emsp;&emsp;&emsp;&emsp;&emsp;&emsp;&emsp;100.0%&emsp;&emsp;&emsp;&emsp;&emsp;&emsp;&emsp;&emsp;&emsp;2.5\n",
        "\n",
        "  98.01%&emsp;&emsp;&emsp;&emsp;&emsp;&emsp;&emsp;&emsp;&emsp;97.75%&emsp;&emsp;&emsp;&emsp;&emsp;&emsp;&emsp;&emsp;&emsp;3.5\n",
        "\n",
        "  98.01%&emsp;&emsp;&emsp;&emsp;&emsp;&emsp;&emsp;&emsp;&emsp;97.75%&emsp;&emsp;&emsp;&emsp;&emsp;&emsp;&emsp;&emsp;&emsp;4.5\n",
        "\n",
        "  97.73%&emsp;&emsp;&emsp;&emsp;&emsp;&emsp;&emsp;&emsp;&emsp;97.75%&emsp;&emsp;&emsp;&emsp;&emsp;&emsp;&emsp;&emsp;&emsp;5.5\n",
        "\n",
        "97.73%&emsp;&emsp;&emsp;&emsp;&emsp;&emsp;&emsp;&emsp;&emsp;97.75%&emsp;&emsp;&emsp;&emsp;&emsp;&emsp;&emsp;&emsp;&emsp;6.5\n",
        "\n",
        "  97.73%&emsp;&emsp;&emsp;&emsp;&emsp;&emsp;&emsp;&emsp;&emsp;97.75%&emsp;&emsp;&emsp;&emsp;&emsp;&emsp;&emsp;&emsp;&emsp;7.5\n",
        "\n",
        "  91.19%&emsp;&emsp;&emsp;&emsp;&emsp;&emsp;&emsp;&emsp;&emsp;94.38%&emsp;&emsp;&emsp;&emsp;&emsp;&emsp;&emsp;&emsp;&emsp;8.5\n",
        "\n",
        "  91.19%&emsp;&emsp;&emsp;&emsp;&emsp;&emsp;&emsp;&emsp;&emsp;94.38%&emsp;&emsp;&emsp;&emsp;&emsp;&emsp;&emsp;&emsp;&emsp;9.5\n",
        "\n",
        "  91.19%&emsp;&emsp;&emsp;&emsp;&emsp;&emsp;&emsp;&emsp;&emsp;93.23%&emsp;&emsp;&emsp;&emsp;&emsp;&emsp;&emsp;&emsp;&emsp;10.5\n",
        "\n",
        "  91.19%&emsp;&emsp;&emsp;&emsp;&emsp;&emsp;&emsp;&emsp;&emsp;93.25%&emsp;&emsp;&emsp;&emsp;&emsp;&emsp;&emsp;&emsp;&emsp;2.5\n",
        "\n",
        "![Spread Parameter variation Vs Mean Squard Error Q3-a](./mse_vs_var1.png)\n",
        "\n",
        "#### From the graph we could deduce that at the initial value spread parameter  `1.5` the mean squared error was little bit above zero `0.05` and at `2.5` the mean squared error was at `0`, consequently as the value of the spread parameter increased the valued of the mean square error increase.One theory for this is, as the value of the spread parameter increases the the bell curve representing the Gaussian distribution i.e the `Radial Basis Function` becomes wider and flatter,which reduces its ability to non-linearly separate data points in different classes decreases."
      ]
    },
    {
      "cell_type": "markdown",
      "metadata": {
        "id": "Eh0QKPw6xrOG"
      },
      "source": [
        "## Considering Question 3 -> ii -> a\n",
        "#### Here we are told to \n",
        "\n",
        "#### 1 Design another RBFNN with 150 centroids using the same spread parameter for each RBF kernal\n",
        "\n",
        "#### 2 Generate the centroides by random selection from the input data\n",
        "\n",
        "#### 2 Compare the result with that of the previous design \n",
        "\n",
        "#### To achieve this we intialized the RBFNN class again this time we set the `num_centers` to 150 and then called the call function with the `check` parameter set to `2` "
      ]
    },
    {
      "cell_type": "code",
      "execution_count": 21,
      "metadata": {
        "id": "ae_Qiw9FlBBE"
      },
      "outputs": [],
      "source": [
        "#initializing the RBFNN class again\n",
        "rbf_1 = RBFNN(X_train , y_train ,X_test , y_test , 150 , 2)"
      ]
    },
    {
      "cell_type": "code",
      "execution_count": 21,
      "metadata": {
        "id": "zk3lJftWzckZ"
      },
      "outputs": [],
      "source": []
    },
    {
      "cell_type": "code",
      "execution_count": null,
      "metadata": {
        "id": "gEUg0yRZzdyH"
      },
      "outputs": [],
      "source": [
        "va_val_1 = []\n",
        "mse_list_1 = []\n",
        "for i in range(len(variations)):\n",
        "  par = variations[i]\n",
        "  temp_1 = sigma + variations[i]\n",
        "  mse_1 = rbf_1.call(par,sigma , 2)\n",
        "  va_val_1.append(temp_1)\n",
        "  mse_list_1.append(mse_1)"
      ]
    },
    {
      "cell_type": "code",
      "execution_count": 22,
      "metadata": {
        "id": "Vud5_oGTzfv3"
      },
      "outputs": [],
      "source": []
    },
    {
      "cell_type": "code",
      "execution_count": 23,
      "metadata": {
        "colab": {
          "base_uri": "https://localhost:8080/",
          "height": 265
        },
        "id": "gPdKJX6OzfbW",
        "outputId": "701f5f9c-29d7-445e-87a1-87693d631476"
      },
      "outputs": [
        {
          "data": {
            "image/png": "[encoded data removed]",
            "text/plain": [
              "<Figure size 432x288 with 1 Axes>"
            ]
          },
          "metadata": {
            "needs_background": "light",
            "tags": []
          },
          "output_type": "display_data"
        }
      ],
      "source": [
        "fig = plt.figure()\n",
        "ax = fig.add_subplot(111)\n",
        "ax.plot(va_val_1, mse_list_1, color='lightblue', linewidth=3)\n",
        "ax.set_xlim(auto = True)\n",
        "plt.savefig('mse_vs_var2.png')"
      ]
    },
    {
      "cell_type": "markdown",
      "metadata": {
        "id": "rfl1rDcF0fhF"
      },
      "source": [
        "##  Discussion\n",
        "\n",
        "#### The Training and Testing accuracy with their respective values of spread\n",
        "\n",
        "\n",
        "\n",
        "Training accuracy&emsp;&emsp;&emsp;Testing accuracy&emsp;&emsp;&emsp;Spread value\n",
        "\n",
        " 98.01%&emsp;&emsp;&emsp;&emsp;&emsp;&emsp;&emsp;&emsp;&emsp;100.0%&emsp;&emsp;&emsp;&emsp;&emsp;&emsp;&emsp;&emsp;&emsp;1.5\n",
        "\n",
        "\n",
        " 98.30%&emsp;&emsp;&emsp;&emsp;&emsp;&emsp;&emsp;&emsp;&emsp;100.0%&emsp;&emsp;&emsp;&emsp;&emsp;&emsp;&emsp;&emsp;&emsp;2.5\n",
        "\n",
        "  98.57%&emsp;&emsp;&emsp;&emsp;&emsp;&emsp;&emsp;&emsp;&emsp;97.75%&emsp;&emsp;&emsp;&emsp;&emsp;&emsp;&emsp;&emsp;&emsp;3.5\n",
        "\n",
        "  98.86%&emsp;&emsp;&emsp;&emsp;&emsp;&emsp;&emsp;&emsp;&emsp;97.75%&emsp;&emsp;&emsp;&emsp;&emsp;&emsp;&emsp;&emsp;&emsp;4.5\n",
        "\n",
        "  97.72%&emsp;&emsp;&emsp;&emsp;&emsp;&emsp;&emsp;&emsp;&emsp;97.75%&emsp;&emsp;&emsp;&emsp;&emsp;&emsp;&emsp;&emsp;&emsp;5.5\n",
        "\n",
        "97.73%&emsp;&emsp;&emsp;&emsp;&emsp;&emsp;&emsp;&emsp;&emsp;97.75%&emsp;&emsp;&emsp;&emsp;&emsp;&emsp;&emsp;&emsp;&emsp;6.5\n",
        "\n",
        "  97.73%&emsp;&emsp;&emsp;&emsp;&emsp;&emsp;&emsp;&emsp;&emsp;97.75%&emsp;&emsp;&emsp;&emsp;&emsp;&emsp;&emsp;&emsp;&emsp;7.5\n",
        "\n",
        "  91.19%&emsp;&emsp;&emsp;&emsp;&emsp;&emsp;&emsp;&emsp;&emsp;94.38%&emsp;&emsp;&emsp;&emsp;&emsp;&emsp;&emsp;&emsp;&emsp;8.5\n",
        "\n",
        "  91.19%&emsp;&emsp;&emsp;&emsp;&emsp;&emsp;&emsp;&emsp;&emsp;94.38%&emsp;&emsp;&emsp;&emsp;&emsp;&emsp;&emsp;&emsp;&emsp;9.5\n",
        "\n",
        "  91.19%&emsp;&emsp;&emsp;&emsp;&emsp;&emsp;&emsp;&emsp;&emsp;93.26%&emsp;&emsp;&emsp;&emsp;&emsp;&emsp;&emsp;&emsp;&emsp;10.5\n",
        "\n",
        "  91.19%&emsp;&emsp;&emsp;&emsp;&emsp;&emsp;&emsp;&emsp;&emsp;93.26%&emsp;&emsp;&emsp;&emsp;&emsp;&emsp;&emsp;&emsp;&emsp;11.5\n",
        "\n",
        "![Spread Parameter variation Vs Mean Squard Error Q3-ii-a](./mse_vs_var2.png)\n",
        "\n",
        "#### Looking at the table and the graph for both RBFNN designs we can deduce that the maximum mean squared error for both design are the same, and this is because `given enough RBF neurons, an RBFNN can define any arbitrarily complex decision boundary`, this implies that `352 RBF neurons` in the case where the training data are use as the neurons as well as `150 RBF neurons` are enough to define the decision boundary of this function approximation problem.Comparing the graph of `3 ii - a` and `3 -> ii -> b` we can see that there is no difference which implies that the method of choosing the `RBF neuron` does not have a huge impact if the number of RBF neuron is larger enough to approximate the decision boundary."
      ]
    },
    {
      "cell_type": "code",
      "execution_count": 23,
      "metadata": {
        "id": "w9j8PvTO0hgz"
      },
      "outputs": [],
      "source": []
    },
    {
      "cell_type": "markdown",
      "metadata": {
        "id": "dgcya09NzwXG"
      },
      "source": [
        "## Considering Question 3 -> ii -> b\n",
        "#### Here we are told to \n",
        "\n",
        "#### 1 Design another RBFNN with 150 centroids using the same spread parameter for each RBF kernal\n",
        "\n",
        "#### 2 Generate the centroids using `kmeans algorithm` implemented by the `clustering` function.\n",
        "\n",
        "#### 2 Compare the result with that of the previous design \n",
        "\n",
        "#### To achieve this we used the RBFNN object instance initialized in 3 -> ii -> a and then called the call function with the `check` parameter set to `1` \n",
        "\n"
      ]
    },
    {
      "cell_type": "code",
      "execution_count": 23,
      "metadata": {
        "id": "krLA6EoHbzpE"
      },
      "outputs": [],
      "source": []
    },
    {
      "cell_type": "code",
      "execution_count": 23,
      "metadata": {
        "id": "bG0HwfbDb7gA"
      },
      "outputs": [],
      "source": []
    },
    {
      "cell_type": "code",
      "execution_count": null,
      "metadata": {
        "id": "S9vV-LsWnAUd"
      },
      "outputs": [],
      "source": [
        "va_val_2 = []\n",
        "mse_list_2 = []\n",
        "for i in range(len(variations)):\n",
        "  par = variations[i]\n",
        "  temp_2 = sigma + variations[i]\n",
        "  mse_2 = rbf_1.call(par, sigma , 1)\n",
        "  va_val_2.append(temp_2)\n",
        "  mse_list_2.append(mse_2)"
      ]
    },
    {
      "cell_type": "code",
      "execution_count": 25,
      "metadata": {
        "colab": {
          "base_uri": "https://localhost:8080/",
          "height": 265
        },
        "id": "-h-AcdJMw3Ca",
        "outputId": "1493f5d7-2f4e-426f-9a52-cbc41ac3dd9a"
      },
      "outputs": [
        {
          "data": {
            "image/png": "[encoded data removed]",
            "text/plain": [
              "<Figure size 432x288 with 1 Axes>"
            ]
          },
          "metadata": {
            "needs_background": "light",
            "tags": []
          },
          "output_type": "display_data"
        }
      ],
      "source": [
        "fig = plt.figure()\n",
        "ax = fig.add_subplot(111)\n",
        "ax.plot(va_val_2, mse_list_2, color='lightblue', linewidth=3)\n",
        "ax.set_xlim(auto = True)\n",
        "plt.savefig('mse_vs_var3.png')"
      ]
    },
    {
      "cell_type": "markdown",
      "metadata": {
        "id": "ATR7qGg_xCgm"
      },
      "source": [
        "##  Discussion\n",
        "\n",
        "##  Discussion\n",
        "\n",
        "#### The Training and Testing accuracy with their respective values of spread\n",
        "\n",
        "\n",
        "\n",
        "Training accuracy&emsp;&emsp;&emsp;Testing accuracy&emsp;&emsp;&emsp;Spread value\n",
        "\n",
        " 98.01%&emsp;&emsp;&emsp;&emsp;&emsp;&emsp;&emsp;&emsp;&emsp;100.0%&emsp;&emsp;&emsp;&emsp;&emsp;&emsp;&emsp;&emsp;&emsp;1.5\n",
        "\n",
        "\n",
        " 98.30%&emsp;&emsp;&emsp;&emsp;&emsp;&emsp;&emsp;&emsp;&emsp;100.0%&emsp;&emsp;&emsp;&emsp;&emsp;&emsp;&emsp;&emsp;&emsp;2.5\n",
        "\n",
        "  98.57%&emsp;&emsp;&emsp;&emsp;&emsp;&emsp;&emsp;&emsp;&emsp;97.75%&emsp;&emsp;&emsp;&emsp;&emsp;&emsp;&emsp;&emsp;&emsp;3.5\n",
        "\n",
        "  98.86%&emsp;&emsp;&emsp;&emsp;&emsp;&emsp;&emsp;&emsp;&emsp;97.75%&emsp;&emsp;&emsp;&emsp;&emsp;&emsp;&emsp;&emsp;&emsp;4.5\n",
        "\n",
        "  97.72%&emsp;&emsp;&emsp;&emsp;&emsp;&emsp;&emsp;&emsp;&emsp;97.75%&emsp;&emsp;&emsp;&emsp;&emsp;&emsp;&emsp;&emsp;&emsp;5.5\n",
        "\n",
        "97.73%&emsp;&emsp;&emsp;&emsp;&emsp;&emsp;&emsp;&emsp;&emsp;97.75%&emsp;&emsp;&emsp;&emsp;&emsp;&emsp;&emsp;&emsp;&emsp;6.5\n",
        "\n",
        "  97.73%&emsp;&emsp;&emsp;&emsp;&emsp;&emsp;&emsp;&emsp;&emsp;97.75%&emsp;&emsp;&emsp;&emsp;&emsp;&emsp;&emsp;&emsp;&emsp;7.5\n",
        "\n",
        "  91.19%&emsp;&emsp;&emsp;&emsp;&emsp;&emsp;&emsp;&emsp;&emsp;94.38%&emsp;&emsp;&emsp;&emsp;&emsp;&emsp;&emsp;&emsp;&emsp;8.5\n",
        "\n",
        "  91.19%&emsp;&emsp;&emsp;&emsp;&emsp;&emsp;&emsp;&emsp;&emsp;94.38%&emsp;&emsp;&emsp;&emsp;&emsp;&emsp;&emsp;&emsp;&emsp;9.5\n",
        "\n",
        "  91.19%&emsp;&emsp;&emsp;&emsp;&emsp;&emsp;&emsp;&emsp;&emsp;93.26%&emsp;&emsp;&emsp;&emsp;&emsp;&emsp;&emsp;&emsp;&emsp;10.5\n",
        "\n",
        "  91.19%&emsp;&emsp;&emsp;&emsp;&emsp;&emsp;&emsp;&emsp;&emsp;93.26%&emsp;&emsp;&emsp;&emsp;&emsp;&emsp;&emsp;&emsp;&emsp;11.5\n",
        "\n",
        "![Spread Parameter variation Vs Mean Squard Error Q3-ii-b](./mse_vs_var3.png)\n",
        "\n",
        "#### Looking at the table and the graph for both RBFNN designs we can deduce that the maximum mean squared error for both design are the same, and this is because `given enough RBF neurons, an RBFNN can define any arbitrarily complex decision boundary`, this implies that `352 RBF neurons` in the case where the training data are use as the neurons as well as `150 RBF neurons` are enough to define the decision boundary for this function approximation problem."
      ]
    },
    {
      "cell_type": "code",
      "execution_count": null,
      "metadata": {
        "id": "zJf0CAFPl4d8"
      },
      "outputs": [],
      "source": []
    }
  ],
  "metadata": {
    "colab": {
      "collapsed_sections": [],
      "name": "RBF_NN.ipynb",
      "provenance": []
    },
    "kernelspec": {
      "display_name": "Python 3",
      "name": "python3"
    },
    "language_info": {
      "name": "python"
    }
  },
  "nbformat": 4,
  "nbformat_minor": 0
}